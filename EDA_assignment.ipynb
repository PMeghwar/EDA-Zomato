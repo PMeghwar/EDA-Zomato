{
  "nbformat": 4,
  "nbformat_minor": 0,
  "metadata": {
    "colab": {
      "provenance": []
    },
    "kernelspec": {
      "name": "python3",
      "display_name": "Python 3"
    },
    "language_info": {
      "name": "python"
    }
  },
  "cells": [
    {
      "cell_type": "code",
      "execution_count": 1,
      "metadata": {
        "id": "1vk4FmS_VnGi"
      },
      "outputs": [],
      "source": [
        "import pandas as pd\n",
        "import matplotlib.pyplot as plt\n",
        "import seaborn as sns\n"
      ]
    },
    {
      "cell_type": "code",
      "source": [
        "dataset = pd.read_csv('/content/zomato_restaurants_in_India.csv')"
      ],
      "metadata": {
        "id": "Xoagreh0VvAJ"
      },
      "execution_count": 2,
      "outputs": []
    },
    {
      "cell_type": "code",
      "source": [
        "df = pd.DataFrame(dataset)"
      ],
      "metadata": {
        "id": "SIW2TgPeWzOg"
      },
      "execution_count": 4,
      "outputs": []
    },
    {
      "cell_type": "code",
      "source": [
        "#exploring dataframe\n",
        "\n",
        "print(\"Shape of DataFrame: \", df.shape)\n",
        "\n",
        "print(\"Statistical Info: \", df.info())"
      ],
      "metadata": {
        "colab": {
          "base_uri": "https://localhost:8080/"
        },
        "id": "WkZGrmlrc2c0",
        "outputId": "7cd2da0b-8735-47c3-9e2a-608c59b4d2e4"
      },
      "execution_count": 5,
      "outputs": [
        {
          "output_type": "stream",
          "name": "stdout",
          "text": [
            "Shape of DataFrame:  (34173, 26)\n",
            "<class 'pandas.core.frame.DataFrame'>\n",
            "RangeIndex: 34173 entries, 0 to 34172\n",
            "Data columns (total 26 columns):\n",
            " #   Column                Non-Null Count  Dtype  \n",
            "---  ------                --------------  -----  \n",
            " 0   res_id                34173 non-null  int64  \n",
            " 1   name                  34173 non-null  object \n",
            " 2   establishment         34173 non-null  object \n",
            " 3   url                   34173 non-null  object \n",
            " 4   address               34172 non-null  object \n",
            " 5   city                  34173 non-null  object \n",
            " 6   city_id               34173 non-null  int64  \n",
            " 7   locality              34173 non-null  object \n",
            " 8   latitude              34173 non-null  float64\n",
            " 9   longitude             34173 non-null  float64\n",
            " 10  zipcode               8769 non-null   object \n",
            " 11  country_id            34172 non-null  float64\n",
            " 12  locality_verbose      34172 non-null  object \n",
            " 13  cuisines              34140 non-null  object \n",
            " 14  timings               33924 non-null  object \n",
            " 15  average_cost_for_two  34172 non-null  float64\n",
            " 16  price_range           34172 non-null  float64\n",
            " 17  currency              34172 non-null  object \n",
            " 18  highlights            34172 non-null  object \n",
            " 19  aggregate_rating      34172 non-null  float64\n",
            " 20  rating_text           34172 non-null  object \n",
            " 21  votes                 34172 non-null  float64\n",
            " 22  photo_count           34172 non-null  float64\n",
            " 23  opentable_support     34170 non-null  float64\n",
            " 24  delivery              34172 non-null  float64\n",
            " 25  takeaway              34172 non-null  float64\n",
            "dtypes: float64(11), int64(2), object(13)\n",
            "memory usage: 6.8+ MB\n",
            "Statistical Info:  None\n"
          ]
        }
      ]
    },
    {
      "cell_type": "markdown",
      "source": [
        "# Task 01: Data Cleaning and Preparation"
      ],
      "metadata": {
        "id": "hS7CHY-5c-am"
      }
    },
    {
      "cell_type": "code",
      "source": [
        "#checking the missing values in dataframe(\n",
        "df.isna().sum()"
      ],
      "metadata": {
        "colab": {
          "base_uri": "https://localhost:8080/"
        },
        "id": "4Qf-8xVSc4hN",
        "outputId": "845df62f-123b-4bd3-de89-c7ba4746851e"
      },
      "execution_count": 6,
      "outputs": [
        {
          "output_type": "execute_result",
          "data": {
            "text/plain": [
              "res_id                      0\n",
              "name                        0\n",
              "establishment               0\n",
              "url                         0\n",
              "address                     1\n",
              "city                        0\n",
              "city_id                     0\n",
              "locality                    0\n",
              "latitude                    0\n",
              "longitude                   0\n",
              "zipcode                 25404\n",
              "country_id                  1\n",
              "locality_verbose            1\n",
              "cuisines                   33\n",
              "timings                   249\n",
              "average_cost_for_two        1\n",
              "price_range                 1\n",
              "currency                    1\n",
              "highlights                  1\n",
              "aggregate_rating            1\n",
              "rating_text                 1\n",
              "votes                       1\n",
              "photo_count                 1\n",
              "opentable_support           3\n",
              "delivery                    1\n",
              "takeaway                    1\n",
              "dtype: int64"
            ]
          },
          "metadata": {},
          "execution_count": 6
        }
      ]
    },
    {
      "cell_type": "code",
      "source": [
        "#creating a copy of dataset. Further will work on df_copy\n",
        "df_copy = df.copy()"
      ],
      "metadata": {
        "id": "6UKIjmVxdGbd"
      },
      "execution_count": 7,
      "outputs": []
    },
    {
      "cell_type": "code",
      "source": [
        "df_copy['opentable_support'].isna().sum()#opentable support has 48 missing values with the column datatype of float64\n",
        "opentable_support_mean = df_copy['opentable_support'].mean()\n",
        "df_copy['opentable_support'] = df_copy['opentable_support'].fillna(opentable_support_mean)"
      ],
      "metadata": {
        "id": "op7thfevdSLU"
      },
      "execution_count": 8,
      "outputs": []
    },
    {
      "cell_type": "code",
      "source": [
        "df_copy.isna().sum()"
      ],
      "metadata": {
        "colab": {
          "base_uri": "https://localhost:8080/"
        },
        "id": "XuFen-2PdV3W",
        "outputId": "480e3cca-ff13-4c58-92f5-64b8e9fa7ec4"
      },
      "execution_count": 9,
      "outputs": [
        {
          "output_type": "execute_result",
          "data": {
            "text/plain": [
              "res_id                      0\n",
              "name                        0\n",
              "establishment               0\n",
              "url                         0\n",
              "address                     1\n",
              "city                        0\n",
              "city_id                     0\n",
              "locality                    0\n",
              "latitude                    0\n",
              "longitude                   0\n",
              "zipcode                 25404\n",
              "country_id                  1\n",
              "locality_verbose            1\n",
              "cuisines                   33\n",
              "timings                   249\n",
              "average_cost_for_two        1\n",
              "price_range                 1\n",
              "currency                    1\n",
              "highlights                  1\n",
              "aggregate_rating            1\n",
              "rating_text                 1\n",
              "votes                       1\n",
              "photo_count                 1\n",
              "opentable_support           0\n",
              "delivery                    1\n",
              "takeaway                    1\n",
              "dtype: int64"
            ]
          },
          "metadata": {},
          "execution_count": 9
        }
      ]
    },
    {
      "cell_type": "code",
      "source": [
        "\n",
        "df_copy['timings'].dtypes\n",
        "\n",
        "df['timings']\n",
        "#not cleaning timing column, seems hard to interpret.\n",
        "\n",
        "#deleting the column timings, due to huge inconsitency\n",
        "\n",
        "del df_copy['timings']\n",
        "\n",
        "\n"
      ],
      "metadata": {
        "id": "7Vc9gysAd0g7"
      },
      "execution_count": 10,
      "outputs": []
    },
    {
      "cell_type": "code",
      "source": [
        "#imputig missing values in cuisines column\n",
        "cuisines_mode = df_copy['cuisines'].mode()[0]  #replacing column with most frequent values\n",
        "\n",
        "df_copy['cuisines'] = df_copy['cuisines'].fillna(cuisines_mode)\n",
        "\n",
        "print(\"Missing values in Cuisines:\", df_copy['cuisines'].isna().sum())\n",
        "\n",
        "df_copy['cuisines'].isna().sum()\n"
      ],
      "metadata": {
        "colab": {
          "base_uri": "https://localhost:8080/"
        },
        "id": "6BTM_uK6d18l",
        "outputId": "b7446932-0776-4394-b7c9-c4d1c4de7714"
      },
      "execution_count": 11,
      "outputs": [
        {
          "output_type": "stream",
          "name": "stdout",
          "text": [
            "Missing values in Cuisines: 0\n"
          ]
        },
        {
          "output_type": "execute_result",
          "data": {
            "text/plain": [
              "0"
            ]
          },
          "metadata": {},
          "execution_count": 11
        }
      ]
    },
    {
      "cell_type": "code",
      "source": [
        "df_copy['zipcode'] = df_copy['zipcode'].fillna(df_copy['zipcode'].mode()[0])\n",
        "\n",
        "print(\"missing values in zip code:\" , df_copy['zipcode'].isna().sum())"
      ],
      "metadata": {
        "colab": {
          "base_uri": "https://localhost:8080/"
        },
        "id": "J0GfSDoWeF_-",
        "outputId": "c9f472de-d4ab-44db-e34a-7fc4670a7cf7"
      },
      "execution_count": 12,
      "outputs": [
        {
          "output_type": "stream",
          "name": "stdout",
          "text": [
            "missing values in zip code: 0\n"
          ]
        }
      ]
    },
    {
      "cell_type": "code",
      "source": [
        "#address column has 134 missing values, replacing them with the most frquent values\n",
        "df_copy['address'] = df_copy['address'].fillna(df_copy['address'].mode()[0])\n",
        "\n",
        "print(\"Missing values in address:\", df_copy['address'].isna().sum())"
      ],
      "metadata": {
        "colab": {
          "base_uri": "https://localhost:8080/"
        },
        "id": "DILyizgBeMO5",
        "outputId": "f64f71d5-8d87-4b82-ada8-1427a0f329ef"
      },
      "execution_count": 13,
      "outputs": [
        {
          "output_type": "stream",
          "name": "stdout",
          "text": [
            "Missing values in address: 0\n"
          ]
        }
      ]
    },
    {
      "cell_type": "code",
      "source": [
        "#deleting url column, because it only consists of url link\n",
        "del df_copy['url']"
      ],
      "metadata": {
        "id": "uNWq3UsxeVah"
      },
      "execution_count": 14,
      "outputs": []
    },
    {
      "cell_type": "code",
      "source": [
        "#final checks for missing values\n",
        "\n",
        "df_copy.isna().sum()"
      ],
      "metadata": {
        "colab": {
          "base_uri": "https://localhost:8080/"
        },
        "id": "gsZlkZdfeeZS",
        "outputId": "65e9423b-258e-4c5a-f29f-888c80f573c7"
      },
      "execution_count": 15,
      "outputs": [
        {
          "output_type": "execute_result",
          "data": {
            "text/plain": [
              "res_id                  0\n",
              "name                    0\n",
              "establishment           0\n",
              "address                 0\n",
              "city                    0\n",
              "city_id                 0\n",
              "locality                0\n",
              "latitude                0\n",
              "longitude               0\n",
              "zipcode                 0\n",
              "country_id              1\n",
              "locality_verbose        1\n",
              "cuisines                0\n",
              "average_cost_for_two    1\n",
              "price_range             1\n",
              "currency                1\n",
              "highlights              1\n",
              "aggregate_rating        1\n",
              "rating_text             1\n",
              "votes                   1\n",
              "photo_count             1\n",
              "opentable_support       0\n",
              "delivery                1\n",
              "takeaway                1\n",
              "dtype: int64"
            ]
          },
          "metadata": {},
          "execution_count": 15
        }
      ]
    },
    {
      "cell_type": "code",
      "source": [
        "#filling missing value in city column\n",
        "\n",
        "a=df_copy['city'].mode()[0]\n",
        "df_copy['city'] = df_copy['city'].fillna(a)\n",
        "\n",
        "df_copy['city'].isna().sum()"
      ],
      "metadata": {
        "colab": {
          "base_uri": "https://localhost:8080/"
        },
        "id": "Et9nKlJazMSw",
        "outputId": "64c7f2c6-04c8-4168-ac04-875e656a42c5"
      },
      "execution_count": 16,
      "outputs": [
        {
          "output_type": "execute_result",
          "data": {
            "text/plain": [
              "0"
            ]
          },
          "metadata": {},
          "execution_count": 16
        }
      ]
    },
    {
      "cell_type": "code",
      "source": [
        "#filling missing value in city_id column, it has all float values\n",
        "b  =  df_copy['city_id'].median()\n",
        "\n",
        "df_copy['city_id'] = df_copy['city_id'].fillna(b)"
      ],
      "metadata": {
        "id": "dOZa6LB6z74a"
      },
      "execution_count": 17,
      "outputs": []
    },
    {
      "cell_type": "code",
      "source": [
        "c = df_copy['latitude'].median()\n",
        "df_copy['latitude'] = df_copy['latitude'].fillna(c)"
      ],
      "metadata": {
        "id": "LXGWsz9x1n6O"
      },
      "execution_count": 18,
      "outputs": []
    },
    {
      "cell_type": "code",
      "source": [
        "df_copy['longitude'].median()\n",
        "df_copy['longitude'] = df_copy['longitude'].fillna(df_copy['longitude'].median())\n",
        "\n",
        "df_copy['longitude'].isna().sum()\n"
      ],
      "metadata": {
        "colab": {
          "base_uri": "https://localhost:8080/"
        },
        "id": "ZXnbO3tCB65S",
        "outputId": "ae21d726-60f2-4204-e5c5-258cda19305a"
      },
      "execution_count": 19,
      "outputs": [
        {
          "output_type": "execute_result",
          "data": {
            "text/plain": [
              "0"
            ]
          },
          "metadata": {},
          "execution_count": 19
        }
      ]
    },
    {
      "cell_type": "code",
      "source": [
        "df_copy['country_id'].mean()\n",
        "df_copy['country_id']= df_copy['country_id'].fillna(df_copy['country_id'].mean())"
      ],
      "metadata": {
        "id": "SenygJiHLskh"
      },
      "execution_count": 20,
      "outputs": []
    },
    {
      "cell_type": "code",
      "source": [
        "df_copy['locality_verbose'].mode()[0]\n",
        "\n",
        "df_copy['locality_verbose'] = df_copy['locality_verbose'].fillna(df_copy['locality_verbose'].mode()[0])"
      ],
      "metadata": {
        "id": "_0FFFUxaMH6I"
      },
      "execution_count": 21,
      "outputs": []
    },
    {
      "cell_type": "code",
      "source": [
        "df_copy['locality'] = df_copy['locality'].fillna(df_copy['locality'].mode()[0])"
      ],
      "metadata": {
        "id": "UL6qQwPMMwAL"
      },
      "execution_count": 22,
      "outputs": []
    },
    {
      "cell_type": "code",
      "source": [
        "df_copy['average_cost_for_two']= df_copy['average_cost_for_two'].fillna(df_copy['average_cost_for_two'].median())"
      ],
      "metadata": {
        "id": "qVIi8vTQNMVX"
      },
      "execution_count": 23,
      "outputs": []
    },
    {
      "cell_type": "code",
      "source": [
        "df_copy['price_range'] = df_copy['price_range'].fillna(df_copy['price_range'].median())"
      ],
      "metadata": {
        "id": "S0b3ifmVNhVd"
      },
      "execution_count": 24,
      "outputs": []
    },
    {
      "cell_type": "code",
      "source": [
        "df_copy['currency']    #currency column doesn't contains any currency value\n",
        "#dropping it\n",
        "\n",
        "del df_copy['currency']"
      ],
      "metadata": {
        "id": "uyOXhUECN1kz"
      },
      "execution_count": 25,
      "outputs": []
    },
    {
      "cell_type": "code",
      "source": [
        "df_copy['highlights'].mode()"
      ],
      "metadata": {
        "colab": {
          "base_uri": "https://localhost:8080/"
        },
        "id": "H1xmcW5iQVJr",
        "outputId": "6f0519f8-f942-4803-91ea-5d877144e3a7"
      },
      "execution_count": 26,
      "outputs": [
        {
          "output_type": "execute_result",
          "data": {
            "text/plain": [
              "0    []\n",
              "Name: highlights, dtype: object"
            ]
          },
          "metadata": {},
          "execution_count": 26
        }
      ]
    },
    {
      "cell_type": "code",
      "source": [
        "df_copy['aggregate_rating']=df_copy['aggregate_rating'].fillna(df_copy['aggregate_rating'].median())"
      ],
      "metadata": {
        "id": "GWX_fKIhSvY7"
      },
      "execution_count": 27,
      "outputs": []
    },
    {
      "cell_type": "code",
      "source": [
        "df_copy['rating_text'] = df_copy['rating_text'].fillna(df_copy['rating_text'].mode()[0])"
      ],
      "metadata": {
        "id": "1JCFS_1ITIy3"
      },
      "execution_count": 28,
      "outputs": []
    },
    {
      "cell_type": "code",
      "source": [
        "df_copy['votes']= df_copy['votes'].fillna(df_copy['votes'].median())"
      ],
      "metadata": {
        "id": "f3-Ummi8TWTe"
      },
      "execution_count": 29,
      "outputs": []
    },
    {
      "cell_type": "code",
      "source": [
        "df_copy['photo_count'] = df_copy['photo_count'].fillna(df_copy['photo_count'].median())"
      ],
      "metadata": {
        "id": "mwE4ZaZGTp64"
      },
      "execution_count": 30,
      "outputs": []
    },
    {
      "cell_type": "code",
      "source": [
        "df_copy['delivery']=df_copy['delivery'].fillna(df_copy['delivery'].median())"
      ],
      "metadata": {
        "id": "FvBH3xQQT5xA"
      },
      "execution_count": 31,
      "outputs": []
    },
    {
      "cell_type": "code",
      "source": [
        "df_copy['takeaway'] = df_copy['takeaway'].fillna(df_copy['takeaway'].median())"
      ],
      "metadata": {
        "id": "jSkoARQwULKk"
      },
      "execution_count": 32,
      "outputs": []
    },
    {
      "cell_type": "code",
      "source": [
        "df_copy['highlights'] = df_copy['highlights'].str.strip('[]').str.strip()\n",
        "df_copy['highlights'] = df_copy['highlights'].str.strip(\"'\").str.strip()"
      ],
      "metadata": {
        "id": "EDB-rrKHVf7N"
      },
      "execution_count": 33,
      "outputs": []
    },
    {
      "cell_type": "code",
      "source": [
        "df_copy['establishment'] = df_copy['establishment'].str.strip('[]').str.strip()\n",
        "df_copy['establishment'] = df_copy['establishment'].str.strip(\"'\").str.strip()"
      ],
      "metadata": {
        "id": "BESwWzJ8TIEe"
      },
      "execution_count": 34,
      "outputs": []
    },
    {
      "cell_type": "code",
      "source": [
        "print(df_copy['establishment'])"
      ],
      "metadata": {
        "colab": {
          "base_uri": "https://localhost:8080/"
        },
        "id": "p9XlyXnCTIB5",
        "outputId": "bfc6c8ed-0ed8-48e7-8975-309cc3d32680"
      },
      "execution_count": 35,
      "outputs": [
        {
          "output_type": "stream",
          "name": "stdout",
          "text": [
            "0          Quick Bites\n",
            "1          Quick Bites\n",
            "2          Quick Bites\n",
            "3          Quick Bites\n",
            "4        Casual Dining\n",
            "             ...      \n",
            "34168             Café\n",
            "34169             Café\n",
            "34170    Casual Dining\n",
            "34171             Café\n",
            "34172             Café\n",
            "Name: establishment, Length: 34173, dtype: object\n"
          ]
        }
      ]
    },
    {
      "cell_type": "code",
      "source": [
        "df_copy['highlights']"
      ],
      "metadata": {
        "colab": {
          "base_uri": "https://localhost:8080/"
        },
        "id": "CmijedcsVRqH",
        "outputId": "cead6b0d-4850-4628-ba35-dfe4f4517f1b"
      },
      "execution_count": 36,
      "outputs": [
        {
          "output_type": "execute_result",
          "data": {
            "text/plain": [
              "0        Lunch', 'Takeaway Available', 'Credit Card', '...\n",
              "1        Delivery', 'No Alcohol Available', 'Dinner', '...\n",
              "2        No Alcohol Available', 'Dinner', 'Takeaway Ava...\n",
              "3        Takeaway Available', 'Credit Card', 'Lunch', '...\n",
              "4        Lunch', 'Serves Alcohol', 'Cash', 'Credit Card...\n",
              "                               ...                        \n",
              "34168    Mall Parking', 'Dinner', 'Breakfast', 'Cash', ...\n",
              "34169    Dinner', 'Cash', 'Debit Card', 'Lunch', 'Credi...\n",
              "34170    Debit Card', 'Takeaway Available', 'Credit Car...\n",
              "34171    Takeaway Available', 'Credit Card', 'Dinner', ...\n",
              "34172                                                  NaN\n",
              "Name: highlights, Length: 34173, dtype: object"
            ]
          },
          "metadata": {},
          "execution_count": 36
        }
      ]
    },
    {
      "cell_type": "code",
      "source": [
        "df2 = df_copy.copy()        #here df is the cleaned dataset, with duplicates removed\n",
        "df2 = df2.drop_duplicates()"
      ],
      "metadata": {
        "id": "sxMmGbsiioox"
      },
      "execution_count": 37,
      "outputs": []
    },
    {
      "cell_type": "code",
      "source": [
        "df2.shape"
      ],
      "metadata": {
        "colab": {
          "base_uri": "https://localhost:8080/"
        },
        "id": "VtMlEIYtn7Qu",
        "outputId": "1602902e-b774-404a-b0bf-1cd27d349ff2"
      },
      "execution_count": 38,
      "outputs": [
        {
          "output_type": "execute_result",
          "data": {
            "text/plain": [
              "(11291, 23)"
            ]
          },
          "metadata": {},
          "execution_count": 38
        }
      ]
    },
    {
      "cell_type": "code",
      "source": [
        "df2.describe()"
      ],
      "metadata": {
        "colab": {
          "base_uri": "https://localhost:8080/",
          "height": 320
        },
        "id": "UmRA6lVqu0VH",
        "outputId": "edbe6997-e5e9-445f-8a60-9ec273f90b93"
      },
      "execution_count": 39,
      "outputs": [
        {
          "output_type": "execute_result",
          "data": {
            "text/plain": [
              "             res_id       city_id      latitude     longitude  country_id  \\\n",
              "count  1.129100e+04  11291.000000  11291.000000  11291.000000     11291.0   \n",
              "mean   1.077370e+07   1194.291648     21.561816     76.281470         1.0   \n",
              "std    8.689535e+06   3452.225247      6.960820      9.315807         0.0   \n",
              "min    5.000400e+04      4.000000      0.000000      0.000000         1.0   \n",
              "25%    2.200932e+06     11.000000     13.039287     75.320805         1.0   \n",
              "50%    1.836983e+07     22.000000     23.036326     77.435727         1.0   \n",
              "75%    1.882175e+07     29.000000     27.158221     77.754495         1.0   \n",
              "max    1.915915e+07  11335.000000     31.824851     85.883076         1.0   \n",
              "\n",
              "       average_cost_for_two   price_range  aggregate_rating         votes  \\\n",
              "count          11291.000000  11291.000000      11291.000000  11291.000000   \n",
              "mean             535.535471      1.720928          3.101355    319.293331   \n",
              "std              533.590577      0.852426          1.444956    839.158751   \n",
              "min                0.000000      1.000000          0.000000    -18.000000   \n",
              "25%              200.000000      1.000000          2.900000      8.000000   \n",
              "50%              400.000000      1.000000          3.600000     57.000000   \n",
              "75%              600.000000      2.000000          4.000000    276.000000   \n",
              "max            14000.000000      4.000000          4.900000  18967.000000   \n",
              "\n",
              "        photo_count  opentable_support      delivery  takeaway  \n",
              "count  11291.000000            11291.0  11291.000000   11291.0  \n",
              "mean     181.275972                0.0     -0.284474      -1.0  \n",
              "std      535.417728                0.0      0.955997       0.0  \n",
              "min        0.000000                0.0     -1.000000      -1.0  \n",
              "25%        2.000000                0.0     -1.000000      -1.0  \n",
              "50%       17.000000                0.0     -1.000000      -1.0  \n",
              "75%      107.000000                0.0      1.000000      -1.0  \n",
              "max    12196.000000                0.0      1.000000      -1.0  "
            ],
            "text/html": [
              "\n",
              "  <div id=\"df-1d444b4b-9863-48a5-9e45-24ce570922ac\" class=\"colab-df-container\">\n",
              "    <div>\n",
              "<style scoped>\n",
              "    .dataframe tbody tr th:only-of-type {\n",
              "        vertical-align: middle;\n",
              "    }\n",
              "\n",
              "    .dataframe tbody tr th {\n",
              "        vertical-align: top;\n",
              "    }\n",
              "\n",
              "    .dataframe thead th {\n",
              "        text-align: right;\n",
              "    }\n",
              "</style>\n",
              "<table border=\"1\" class=\"dataframe\">\n",
              "  <thead>\n",
              "    <tr style=\"text-align: right;\">\n",
              "      <th></th>\n",
              "      <th>res_id</th>\n",
              "      <th>city_id</th>\n",
              "      <th>latitude</th>\n",
              "      <th>longitude</th>\n",
              "      <th>country_id</th>\n",
              "      <th>average_cost_for_two</th>\n",
              "      <th>price_range</th>\n",
              "      <th>aggregate_rating</th>\n",
              "      <th>votes</th>\n",
              "      <th>photo_count</th>\n",
              "      <th>opentable_support</th>\n",
              "      <th>delivery</th>\n",
              "      <th>takeaway</th>\n",
              "    </tr>\n",
              "  </thead>\n",
              "  <tbody>\n",
              "    <tr>\n",
              "      <th>count</th>\n",
              "      <td>1.129100e+04</td>\n",
              "      <td>11291.000000</td>\n",
              "      <td>11291.000000</td>\n",
              "      <td>11291.000000</td>\n",
              "      <td>11291.0</td>\n",
              "      <td>11291.000000</td>\n",
              "      <td>11291.000000</td>\n",
              "      <td>11291.000000</td>\n",
              "      <td>11291.000000</td>\n",
              "      <td>11291.000000</td>\n",
              "      <td>11291.0</td>\n",
              "      <td>11291.000000</td>\n",
              "      <td>11291.0</td>\n",
              "    </tr>\n",
              "    <tr>\n",
              "      <th>mean</th>\n",
              "      <td>1.077370e+07</td>\n",
              "      <td>1194.291648</td>\n",
              "      <td>21.561816</td>\n",
              "      <td>76.281470</td>\n",
              "      <td>1.0</td>\n",
              "      <td>535.535471</td>\n",
              "      <td>1.720928</td>\n",
              "      <td>3.101355</td>\n",
              "      <td>319.293331</td>\n",
              "      <td>181.275972</td>\n",
              "      <td>0.0</td>\n",
              "      <td>-0.284474</td>\n",
              "      <td>-1.0</td>\n",
              "    </tr>\n",
              "    <tr>\n",
              "      <th>std</th>\n",
              "      <td>8.689535e+06</td>\n",
              "      <td>3452.225247</td>\n",
              "      <td>6.960820</td>\n",
              "      <td>9.315807</td>\n",
              "      <td>0.0</td>\n",
              "      <td>533.590577</td>\n",
              "      <td>0.852426</td>\n",
              "      <td>1.444956</td>\n",
              "      <td>839.158751</td>\n",
              "      <td>535.417728</td>\n",
              "      <td>0.0</td>\n",
              "      <td>0.955997</td>\n",
              "      <td>0.0</td>\n",
              "    </tr>\n",
              "    <tr>\n",
              "      <th>min</th>\n",
              "      <td>5.000400e+04</td>\n",
              "      <td>4.000000</td>\n",
              "      <td>0.000000</td>\n",
              "      <td>0.000000</td>\n",
              "      <td>1.0</td>\n",
              "      <td>0.000000</td>\n",
              "      <td>1.000000</td>\n",
              "      <td>0.000000</td>\n",
              "      <td>-18.000000</td>\n",
              "      <td>0.000000</td>\n",
              "      <td>0.0</td>\n",
              "      <td>-1.000000</td>\n",
              "      <td>-1.0</td>\n",
              "    </tr>\n",
              "    <tr>\n",
              "      <th>25%</th>\n",
              "      <td>2.200932e+06</td>\n",
              "      <td>11.000000</td>\n",
              "      <td>13.039287</td>\n",
              "      <td>75.320805</td>\n",
              "      <td>1.0</td>\n",
              "      <td>200.000000</td>\n",
              "      <td>1.000000</td>\n",
              "      <td>2.900000</td>\n",
              "      <td>8.000000</td>\n",
              "      <td>2.000000</td>\n",
              "      <td>0.0</td>\n",
              "      <td>-1.000000</td>\n",
              "      <td>-1.0</td>\n",
              "    </tr>\n",
              "    <tr>\n",
              "      <th>50%</th>\n",
              "      <td>1.836983e+07</td>\n",
              "      <td>22.000000</td>\n",
              "      <td>23.036326</td>\n",
              "      <td>77.435727</td>\n",
              "      <td>1.0</td>\n",
              "      <td>400.000000</td>\n",
              "      <td>1.000000</td>\n",
              "      <td>3.600000</td>\n",
              "      <td>57.000000</td>\n",
              "      <td>17.000000</td>\n",
              "      <td>0.0</td>\n",
              "      <td>-1.000000</td>\n",
              "      <td>-1.0</td>\n",
              "    </tr>\n",
              "    <tr>\n",
              "      <th>75%</th>\n",
              "      <td>1.882175e+07</td>\n",
              "      <td>29.000000</td>\n",
              "      <td>27.158221</td>\n",
              "      <td>77.754495</td>\n",
              "      <td>1.0</td>\n",
              "      <td>600.000000</td>\n",
              "      <td>2.000000</td>\n",
              "      <td>4.000000</td>\n",
              "      <td>276.000000</td>\n",
              "      <td>107.000000</td>\n",
              "      <td>0.0</td>\n",
              "      <td>1.000000</td>\n",
              "      <td>-1.0</td>\n",
              "    </tr>\n",
              "    <tr>\n",
              "      <th>max</th>\n",
              "      <td>1.915915e+07</td>\n",
              "      <td>11335.000000</td>\n",
              "      <td>31.824851</td>\n",
              "      <td>85.883076</td>\n",
              "      <td>1.0</td>\n",
              "      <td>14000.000000</td>\n",
              "      <td>4.000000</td>\n",
              "      <td>4.900000</td>\n",
              "      <td>18967.000000</td>\n",
              "      <td>12196.000000</td>\n",
              "      <td>0.0</td>\n",
              "      <td>1.000000</td>\n",
              "      <td>-1.0</td>\n",
              "    </tr>\n",
              "  </tbody>\n",
              "</table>\n",
              "</div>\n",
              "    <div class=\"colab-df-buttons\">\n",
              "\n",
              "  <div class=\"colab-df-container\">\n",
              "    <button class=\"colab-df-convert\" onclick=\"convertToInteractive('df-1d444b4b-9863-48a5-9e45-24ce570922ac')\"\n",
              "            title=\"Convert this dataframe to an interactive table.\"\n",
              "            style=\"display:none;\">\n",
              "\n",
              "  <svg xmlns=\"http://www.w3.org/2000/svg\" height=\"24px\" viewBox=\"0 -960 960 960\">\n",
              "    <path d=\"M120-120v-720h720v720H120Zm60-500h600v-160H180v160Zm220 220h160v-160H400v160Zm0 220h160v-160H400v160ZM180-400h160v-160H180v160Zm440 0h160v-160H620v160ZM180-180h160v-160H180v160Zm440 0h160v-160H620v160Z\"/>\n",
              "  </svg>\n",
              "    </button>\n",
              "\n",
              "  <style>\n",
              "    .colab-df-container {\n",
              "      display:flex;\n",
              "      gap: 12px;\n",
              "    }\n",
              "\n",
              "    .colab-df-convert {\n",
              "      background-color: #E8F0FE;\n",
              "      border: none;\n",
              "      border-radius: 50%;\n",
              "      cursor: pointer;\n",
              "      display: none;\n",
              "      fill: #1967D2;\n",
              "      height: 32px;\n",
              "      padding: 0 0 0 0;\n",
              "      width: 32px;\n",
              "    }\n",
              "\n",
              "    .colab-df-convert:hover {\n",
              "      background-color: #E2EBFA;\n",
              "      box-shadow: 0px 1px 2px rgba(60, 64, 67, 0.3), 0px 1px 3px 1px rgba(60, 64, 67, 0.15);\n",
              "      fill: #174EA6;\n",
              "    }\n",
              "\n",
              "    .colab-df-buttons div {\n",
              "      margin-bottom: 4px;\n",
              "    }\n",
              "\n",
              "    [theme=dark] .colab-df-convert {\n",
              "      background-color: #3B4455;\n",
              "      fill: #D2E3FC;\n",
              "    }\n",
              "\n",
              "    [theme=dark] .colab-df-convert:hover {\n",
              "      background-color: #434B5C;\n",
              "      box-shadow: 0px 1px 3px 1px rgba(0, 0, 0, 0.15);\n",
              "      filter: drop-shadow(0px 1px 2px rgba(0, 0, 0, 0.3));\n",
              "      fill: #FFFFFF;\n",
              "    }\n",
              "  </style>\n",
              "\n",
              "    <script>\n",
              "      const buttonEl =\n",
              "        document.querySelector('#df-1d444b4b-9863-48a5-9e45-24ce570922ac button.colab-df-convert');\n",
              "      buttonEl.style.display =\n",
              "        google.colab.kernel.accessAllowed ? 'block' : 'none';\n",
              "\n",
              "      async function convertToInteractive(key) {\n",
              "        const element = document.querySelector('#df-1d444b4b-9863-48a5-9e45-24ce570922ac');\n",
              "        const dataTable =\n",
              "          await google.colab.kernel.invokeFunction('convertToInteractive',\n",
              "                                                    [key], {});\n",
              "        if (!dataTable) return;\n",
              "\n",
              "        const docLinkHtml = 'Like what you see? Visit the ' +\n",
              "          '<a target=\"_blank\" href=https://colab.research.google.com/notebooks/data_table.ipynb>data table notebook</a>'\n",
              "          + ' to learn more about interactive tables.';\n",
              "        element.innerHTML = '';\n",
              "        dataTable['output_type'] = 'display_data';\n",
              "        await google.colab.output.renderOutput(dataTable, element);\n",
              "        const docLink = document.createElement('div');\n",
              "        docLink.innerHTML = docLinkHtml;\n",
              "        element.appendChild(docLink);\n",
              "      }\n",
              "    </script>\n",
              "  </div>\n",
              "\n",
              "\n",
              "<div id=\"df-19548648-0a4d-41d3-8fc2-40ade5a067c5\">\n",
              "  <button class=\"colab-df-quickchart\" onclick=\"quickchart('df-19548648-0a4d-41d3-8fc2-40ade5a067c5')\"\n",
              "            title=\"Suggest charts\"\n",
              "            style=\"display:none;\">\n",
              "\n",
              "<svg xmlns=\"http://www.w3.org/2000/svg\" height=\"24px\"viewBox=\"0 0 24 24\"\n",
              "     width=\"24px\">\n",
              "    <g>\n",
              "        <path d=\"M19 3H5c-1.1 0-2 .9-2 2v14c0 1.1.9 2 2 2h14c1.1 0 2-.9 2-2V5c0-1.1-.9-2-2-2zM9 17H7v-7h2v7zm4 0h-2V7h2v10zm4 0h-2v-4h2v4z\"/>\n",
              "    </g>\n",
              "</svg>\n",
              "  </button>\n",
              "\n",
              "<style>\n",
              "  .colab-df-quickchart {\n",
              "      --bg-color: #E8F0FE;\n",
              "      --fill-color: #1967D2;\n",
              "      --hover-bg-color: #E2EBFA;\n",
              "      --hover-fill-color: #174EA6;\n",
              "      --disabled-fill-color: #AAA;\n",
              "      --disabled-bg-color: #DDD;\n",
              "  }\n",
              "\n",
              "  [theme=dark] .colab-df-quickchart {\n",
              "      --bg-color: #3B4455;\n",
              "      --fill-color: #D2E3FC;\n",
              "      --hover-bg-color: #434B5C;\n",
              "      --hover-fill-color: #FFFFFF;\n",
              "      --disabled-bg-color: #3B4455;\n",
              "      --disabled-fill-color: #666;\n",
              "  }\n",
              "\n",
              "  .colab-df-quickchart {\n",
              "    background-color: var(--bg-color);\n",
              "    border: none;\n",
              "    border-radius: 50%;\n",
              "    cursor: pointer;\n",
              "    display: none;\n",
              "    fill: var(--fill-color);\n",
              "    height: 32px;\n",
              "    padding: 0;\n",
              "    width: 32px;\n",
              "  }\n",
              "\n",
              "  .colab-df-quickchart:hover {\n",
              "    background-color: var(--hover-bg-color);\n",
              "    box-shadow: 0 1px 2px rgba(60, 64, 67, 0.3), 0 1px 3px 1px rgba(60, 64, 67, 0.15);\n",
              "    fill: var(--button-hover-fill-color);\n",
              "  }\n",
              "\n",
              "  .colab-df-quickchart-complete:disabled,\n",
              "  .colab-df-quickchart-complete:disabled:hover {\n",
              "    background-color: var(--disabled-bg-color);\n",
              "    fill: var(--disabled-fill-color);\n",
              "    box-shadow: none;\n",
              "  }\n",
              "\n",
              "  .colab-df-spinner {\n",
              "    border: 2px solid var(--fill-color);\n",
              "    border-color: transparent;\n",
              "    border-bottom-color: var(--fill-color);\n",
              "    animation:\n",
              "      spin 1s steps(1) infinite;\n",
              "  }\n",
              "\n",
              "  @keyframes spin {\n",
              "    0% {\n",
              "      border-color: transparent;\n",
              "      border-bottom-color: var(--fill-color);\n",
              "      border-left-color: var(--fill-color);\n",
              "    }\n",
              "    20% {\n",
              "      border-color: transparent;\n",
              "      border-left-color: var(--fill-color);\n",
              "      border-top-color: var(--fill-color);\n",
              "    }\n",
              "    30% {\n",
              "      border-color: transparent;\n",
              "      border-left-color: var(--fill-color);\n",
              "      border-top-color: var(--fill-color);\n",
              "      border-right-color: var(--fill-color);\n",
              "    }\n",
              "    40% {\n",
              "      border-color: transparent;\n",
              "      border-right-color: var(--fill-color);\n",
              "      border-top-color: var(--fill-color);\n",
              "    }\n",
              "    60% {\n",
              "      border-color: transparent;\n",
              "      border-right-color: var(--fill-color);\n",
              "    }\n",
              "    80% {\n",
              "      border-color: transparent;\n",
              "      border-right-color: var(--fill-color);\n",
              "      border-bottom-color: var(--fill-color);\n",
              "    }\n",
              "    90% {\n",
              "      border-color: transparent;\n",
              "      border-bottom-color: var(--fill-color);\n",
              "    }\n",
              "  }\n",
              "</style>\n",
              "\n",
              "  <script>\n",
              "    async function quickchart(key) {\n",
              "      const quickchartButtonEl =\n",
              "        document.querySelector('#' + key + ' button');\n",
              "      quickchartButtonEl.disabled = true;  // To prevent multiple clicks.\n",
              "      quickchartButtonEl.classList.add('colab-df-spinner');\n",
              "      try {\n",
              "        const charts = await google.colab.kernel.invokeFunction(\n",
              "            'suggestCharts', [key], {});\n",
              "      } catch (error) {\n",
              "        console.error('Error during call to suggestCharts:', error);\n",
              "      }\n",
              "      quickchartButtonEl.classList.remove('colab-df-spinner');\n",
              "      quickchartButtonEl.classList.add('colab-df-quickchart-complete');\n",
              "    }\n",
              "    (() => {\n",
              "      let quickchartButtonEl =\n",
              "        document.querySelector('#df-19548648-0a4d-41d3-8fc2-40ade5a067c5 button');\n",
              "      quickchartButtonEl.style.display =\n",
              "        google.colab.kernel.accessAllowed ? 'block' : 'none';\n",
              "    })();\n",
              "  </script>\n",
              "</div>\n",
              "    </div>\n",
              "  </div>\n"
            ],
            "application/vnd.google.colaboratory.intrinsic+json": {
              "type": "dataframe",
              "summary": "{\n  \"name\": \"df2\",\n  \"rows\": 8,\n  \"fields\": [\n    {\n      \"column\": \"res_id\",\n      \"properties\": {\n        \"dtype\": \"number\",\n        \"std\": 8394069.018303737,\n        \"min\": 11291.0,\n        \"max\": 19159150.0,\n        \"num_unique_values\": 8,\n        \"samples\": [\n          10773702.870782038,\n          18369830.0,\n          11291.0\n        ],\n        \"semantic_type\": \"\",\n        \"description\": \"\"\n      }\n    },\n    {\n      \"column\": \"city_id\",\n      \"properties\": {\n        \"dtype\": \"number\",\n        \"std\": 5012.701673082821,\n        \"min\": 4.0,\n        \"max\": 11335.0,\n        \"num_unique_values\": 8,\n        \"samples\": [\n          1194.2916482153928,\n          22.0,\n          11291.0\n        ],\n        \"semantic_type\": \"\",\n        \"description\": \"\"\n      }\n    },\n    {\n      \"column\": \"latitude\",\n      \"properties\": {\n        \"dtype\": \"number\",\n        \"std\": 3985.743560492826,\n        \"min\": 0.0,\n        \"max\": 11291.0,\n        \"num_unique_values\": 8,\n        \"samples\": [\n          21.56181578177398,\n          23.03632561,\n          11291.0\n        ],\n        \"semantic_type\": \"\",\n        \"description\": \"\"\n      }\n    },\n    {\n      \"column\": \"longitude\",\n      \"properties\": {\n        \"dtype\": \"number\",\n        \"std\": 3971.8099850313947,\n        \"min\": 0.0,\n        \"max\": 11291.0,\n        \"num_unique_values\": 8,\n        \"samples\": [\n          76.2814700507165,\n          77.43572664,\n          11291.0\n        ],\n        \"semantic_type\": \"\",\n        \"description\": \"\"\n      }\n    },\n    {\n      \"column\": \"country_id\",\n      \"properties\": {\n        \"dtype\": \"number\",\n        \"std\": 3991.668302763359,\n        \"min\": 0.0,\n        \"max\": 11291.0,\n        \"num_unique_values\": 3,\n        \"samples\": [\n          11291.0,\n          1.0,\n          0.0\n        ],\n        \"semantic_type\": \"\",\n        \"description\": \"\"\n      }\n    },\n    {\n      \"column\": \"average_cost_for_two\",\n      \"properties\": {\n        \"dtype\": \"number\",\n        \"std\": 5728.040423758354,\n        \"min\": 0.0,\n        \"max\": 14000.0,\n        \"num_unique_values\": 8,\n        \"samples\": [\n          535.5354707288991,\n          400.0,\n          11291.0\n        ],\n        \"semantic_type\": \"\",\n        \"description\": \"\"\n      }\n    },\n    {\n      \"column\": \"price_range\",\n      \"properties\": {\n        \"dtype\": \"number\",\n        \"std\": 3991.3869257303068,\n        \"min\": 0.8524255328147594,\n        \"max\": 11291.0,\n        \"num_unique_values\": 6,\n        \"samples\": [\n          11291.0,\n          1.7209281728810557,\n          4.0\n        ],\n        \"semantic_type\": \"\",\n        \"description\": \"\"\n      }\n    },\n    {\n      \"column\": \"aggregate_rating\",\n      \"properties\": {\n        \"dtype\": \"number\",\n        \"std\": 3990.9641831733657,\n        \"min\": 0.0,\n        \"max\": 11291.0,\n        \"num_unique_values\": 8,\n        \"samples\": [\n          3.1013550615534498,\n          3.6,\n          11291.0\n        ],\n        \"semantic_type\": \"\",\n        \"description\": \"\"\n      }\n    },\n    {\n      \"column\": \"votes\",\n      \"properties\": {\n        \"dtype\": \"number\",\n        \"std\": 7193.207275244543,\n        \"min\": -18.0,\n        \"max\": 18967.0,\n        \"num_unique_values\": 8,\n        \"samples\": [\n          319.2933309715703,\n          57.0,\n          11291.0\n        ],\n        \"semantic_type\": \"\",\n        \"description\": \"\"\n      }\n    },\n    {\n      \"column\": \"photo_count\",\n      \"properties\": {\n        \"dtype\": \"number\",\n        \"std\": 5379.4399958157255,\n        \"min\": 0.0,\n        \"max\": 12196.0,\n        \"num_unique_values\": 8,\n        \"samples\": [\n          181.27597201310778,\n          17.0,\n          11291.0\n        ],\n        \"semantic_type\": \"\",\n        \"description\": \"\"\n      }\n    },\n    {\n      \"column\": \"opentable_support\",\n      \"properties\": {\n        \"dtype\": \"number\",\n        \"std\": 3991.971333188654,\n        \"min\": 0.0,\n        \"max\": 11291.0,\n        \"num_unique_values\": 2,\n        \"samples\": [\n          0.0,\n          11291.0\n        ],\n        \"semantic_type\": \"\",\n        \"description\": \"\"\n      }\n    },\n    {\n      \"column\": \"delivery\",\n      \"properties\": {\n        \"dtype\": \"number\",\n        \"std\": 3991.9880308008765,\n        \"min\": -1.0,\n        \"max\": 11291.0,\n        \"num_unique_values\": 5,\n        \"samples\": [\n          -0.28447436010982197,\n          1.0\n        ],\n        \"semantic_type\": \"\",\n        \"description\": \"\"\n      }\n    },\n    {\n      \"column\": \"takeaway\",\n      \"properties\": {\n        \"dtype\": \"number\",\n        \"std\": 3992.274394287762,\n        \"min\": -1.0,\n        \"max\": 11291.0,\n        \"num_unique_values\": 3,\n        \"samples\": [\n          11291.0,\n          -1.0\n        ],\n        \"semantic_type\": \"\",\n        \"description\": \"\"\n      }\n    }\n  ]\n}"
            }
          },
          "metadata": {},
          "execution_count": 39
        }
      ]
    },
    {
      "cell_type": "markdown",
      "source": [
        "# Task 2: Exploratory Data Analysis"
      ],
      "metadata": {
        "id": "wyNv-Jyzkqsu"
      }
    },
    {
      "cell_type": "code",
      "source": [
        "\n",
        "\n",
        "#top restuarants\n",
        "value_counts = df2['name'].value_counts()\n",
        "\n",
        "# Plot bar chart for top N categories\n",
        "top_categories = value_counts.head(10)  # Adjust number of top categories as needed\n",
        "plt.figure(figsize=(7, 6))\n",
        "sns.barplot(x=top_categories.index, y=top_categories.values)\n",
        "plt.title('Top Categories Restaurants')\n",
        "plt.xlabel('Top Restaurants')\n",
        "plt.ylabel('Count')\n",
        "plt.xticks(rotation=45)\n",
        "plt.show()"
      ],
      "metadata": {
        "colab": {
          "base_uri": "https://localhost:8080/",
          "height": 640
        },
        "id": "f9Q2qQh-O-3W",
        "outputId": "853be1f6-6af2-466d-f8a3-5015abe598e7"
      },
      "execution_count": 40,
      "outputs": [
        {
          "output_type": "display_data",
          "data": {
            "text/plain": [
              "<Figure size 700x600 with 1 Axes>"
            ],
            "image/png": "[encoded data removed]"
          },
          "metadata": {}
        }
      ]
    },
    {
      "cell_type": "code",
      "source": [
        "value_counts = df2['city'].value_counts()\n",
        "\n",
        "# Plot bar chart for top N categories\n",
        "top_categories = value_counts.head(10)  # Adjust number of top categories as needed\n",
        "plt.figure(figsize=(5, 5))\n",
        "sns.barplot(x=top_categories.index, y=top_categories.values)\n",
        "plt.title('Cities')\n",
        "plt.xlabel('')\n",
        "plt.ylabel('Count')\n",
        "plt.xticks(rotation=45)\n",
        "plt.show()"
      ],
      "metadata": {
        "colab": {
          "base_uri": "https://localhost:8080/",
          "height": 537
        },
        "id": "NqiVMYwhk6PD",
        "outputId": "f66a44b5-4d75-4e27-e59e-7cc1e5b45296"
      },
      "execution_count": 41,
      "outputs": [
        {
          "output_type": "display_data",
          "data": {
            "text/plain": [
              "<Figure size 500x500 with 1 Axes>"
            ],
            "image/png": "[encoded data removed]"
          },
          "metadata": {}
        }
      ]
    },
    {
      "cell_type": "code",
      "source": [
        "value_counts = df2['establishment'].value_counts()\n",
        "\n",
        "# Plot bar chart for top N categories\n",
        "top_categories = value_counts.head(10)  # Adjust number of top categories as needed\n",
        "plt.figure(figsize=(5, 5))\n",
        "sns.barplot(x=top_categories.index, y=top_categories.values)\n",
        "plt.title('Establishment  ')\n",
        "plt.xlabel('')\n",
        "plt.ylabel('Count')\n",
        "plt.xticks(rotation=45)\n",
        "plt.show()"
      ],
      "metadata": {
        "colab": {
          "base_uri": "https://localhost:8080/",
          "height": 539
        },
        "id": "Qdro6mAtk__E",
        "outputId": "cc27ccb5-102b-48f9-b4da-76101394e101"
      },
      "execution_count": 42,
      "outputs": [
        {
          "output_type": "display_data",
          "data": {
            "text/plain": [
              "<Figure size 500x500 with 1 Axes>"
            ],
            "image/png": "[encoded data removed]"
          },
          "metadata": {}
        }
      ]
    },
    {
      "cell_type": "code",
      "source": [
        "value_counts = df2['rating_text'].value_counts()\n",
        "\n",
        "# Plot bar chart for top N categories\n",
        "top_categories = value_counts.head(10)  # Adjust number of top categories as needed\n",
        "plt.figure(figsize=(5, 5))\n",
        "sns.barplot(x=top_categories.index, y=top_categories.values)\n",
        "plt.title('Ratings of Restaurants')\n",
        "plt.xlabel('')\n",
        "plt.ylabel('Count')\n",
        "plt.xticks(rotation=45)\n",
        "plt.show()"
      ],
      "metadata": {
        "colab": {
          "base_uri": "https://localhost:8080/",
          "height": 523
        },
        "id": "CvbDTV6GlHiG",
        "outputId": "39eeacd7-e31e-4000-feec-e83a8907288a"
      },
      "execution_count": 43,
      "outputs": [
        {
          "output_type": "display_data",
          "data": {
            "text/plain": [
              "<Figure size 500x500 with 1 Axes>"
            ],
            "image/png": "[encoded data removed]"
          },
          "metadata": {}
        }
      ]
    },
    {
      "cell_type": "code",
      "source": [
        "df2['name'].mode()[0]"
      ],
      "metadata": {
        "colab": {
          "base_uri": "https://localhost:8080/",
          "height": 35
        },
        "id": "rwVE4ccxrA95",
        "outputId": "54286a18-0d13-48c4-93ad-9df95deb8cfd"
      },
      "execution_count": 44,
      "outputs": [
        {
          "output_type": "execute_result",
          "data": {
            "text/plain": [
              "\"Domino's Pizza\""
            ],
            "application/vnd.google.colaboratory.intrinsic+json": {
              "type": "string"
            }
          },
          "metadata": {},
          "execution_count": 44
        }
      ]
    },
    {
      "cell_type": "code",
      "source": [
        "df2['establishment'].mode()[0]"
      ],
      "metadata": {
        "colab": {
          "base_uri": "https://localhost:8080/",
          "height": 35
        },
        "id": "rBI4BCX2yHjg",
        "outputId": "bed5f5ed-be20-4a42-d9e6-6c103ad5a807"
      },
      "execution_count": 45,
      "outputs": [
        {
          "output_type": "execute_result",
          "data": {
            "text/plain": [
              "'Quick Bites'"
            ],
            "application/vnd.google.colaboratory.intrinsic+json": {
              "type": "string"
            }
          },
          "metadata": {},
          "execution_count": 45
        }
      ]
    },
    {
      "cell_type": "code",
      "source": [
        "df2['highlights'].mode()[0]"
      ],
      "metadata": {
        "id": "18_1MIdkyQQO",
        "outputId": "4f7c0bad-6c56-4f86-ae50-9c18289b5ab9",
        "colab": {
          "base_uri": "https://localhost:8080/",
          "height": 35
        }
      },
      "execution_count": 46,
      "outputs": [
        {
          "output_type": "execute_result",
          "data": {
            "text/plain": [
              "''"
            ],
            "application/vnd.google.colaboratory.intrinsic+json": {
              "type": "string"
            }
          },
          "metadata": {},
          "execution_count": 46
        }
      ]
    },
    {
      "cell_type": "code",
      "source": [
        "import seaborn as sns\n",
        "import matplotlib.pyplot as plt\n"
      ],
      "metadata": {
        "id": "nhw0Zyugw7hs"
      },
      "execution_count": 47,
      "outputs": []
    },
    {
      "cell_type": "markdown",
      "source": [
        "# Visualizing and identifying relationships between variables"
      ],
      "metadata": {
        "id": "-bGbG6m_ERGM"
      }
    },
    {
      "cell_type": "code",
      "source": [
        "import seaborn as sns\n",
        "import matplotlib.pyplot as plt\n",
        "\n",
        "#aggregating rating\n",
        "\n",
        "distribution_of_aggregate_rating = df2['aggregate_rating'].describe()\n",
        "print(distribution_of_aggregate_rating)\n",
        "\n",
        "sns.kdeplot(df2['aggregate_rating'], shade=True)\n",
        "plt.xlabel('Aggregate Rating')\n",
        "plt.ylabel('Density')\n",
        "plt.title('KDE Plot of Aggregate Rating')\n",
        "plt.show()\n",
        "\n",
        "#count of total aggregating rating is 211944\n",
        "#mean of aggregating rating is 3.3\n",
        "#std  of 1.2\n",
        "#min aggregate rating 0, it means all the all the resturants and foods are rated\n",
        "#25% of aggregate rating is 3.3\n",
        "#50% of aggregate rating is 3.8\n",
        "#75% of aggregate rating is 4.1\n",
        "#max of aggregate rating is more than 4"
      ],
      "metadata": {
        "colab": {
          "base_uri": "https://localhost:8080/",
          "height": 732
        },
        "id": "61Hi8kkqfTpA",
        "outputId": "7dbb8b4c-90ae-402b-a07c-5c5c8329979b"
      },
      "execution_count": 48,
      "outputs": [
        {
          "output_type": "stream",
          "name": "stdout",
          "text": [
            "count    11291.000000\n",
            "mean         3.101355\n",
            "std          1.444956\n",
            "min          0.000000\n",
            "25%          2.900000\n",
            "50%          3.600000\n",
            "75%          4.000000\n",
            "max          4.900000\n",
            "Name: aggregate_rating, dtype: float64\n"
          ]
        },
        {
          "output_type": "stream",
          "name": "stderr",
          "text": [
            "<ipython-input-48-0dc1edd4ceaf>:9: FutureWarning: \n",
            "\n",
            "`shade` is now deprecated in favor of `fill`; setting `fill=True`.\n",
            "This will become an error in seaborn v0.14.0; please update your code.\n",
            "\n",
            "  sns.kdeplot(df2['aggregate_rating'], shade=True)\n"
          ]
        },
        {
          "output_type": "display_data",
          "data": {
            "text/plain": [
              "<Figure size 640x480 with 1 Axes>"
            ],
            "image/png": "[encoded data removed]"
          },
          "metadata": {}
        }
      ]
    },
    {
      "cell_type": "code",
      "source": [
        " distribution_of_votes = df2['votes'].describe()\n",
        "\n",
        " print(distribution_of_votes)\n",
        "\n",
        "sns.violinplot(df2['votes'], inner='box')\n",
        "plt.title('Violin plot of Votes')\n",
        "plt.show()\n",
        "\n",
        "#total count of votes is 211944\n",
        "#mean of votes is 378\n",
        "#std of votes is 925\n",
        "#minimum of vote is -18\n",
        "#25% of vote = 16\n",
        "#50% of vote = 100\n",
        "#75% of vote = 362\n",
        "#max of vote = 42539"
      ],
      "metadata": {
        "colab": {
          "base_uri": "https://localhost:8080/",
          "height": 589
        },
        "id": "ZCGBggZbf2iZ",
        "outputId": "23f4e20b-311c-49f5-b1ad-ee4b47162f83"
      },
      "execution_count": 49,
      "outputs": [
        {
          "output_type": "stream",
          "name": "stdout",
          "text": [
            "count    11291.000000\n",
            "mean       319.293331\n",
            "std        839.158751\n",
            "min        -18.000000\n",
            "25%          8.000000\n",
            "50%         57.000000\n",
            "75%        276.000000\n",
            "max      18967.000000\n",
            "Name: votes, dtype: float64\n"
          ]
        },
        {
          "output_type": "display_data",
          "data": {
            "text/plain": [
              "<Figure size 640x480 with 1 Axes>"
            ],
            "image/png": "[encoded data removed]"
          },
          "metadata": {}
        }
      ]
    },
    {
      "cell_type": "markdown",
      "source": [
        "# Regional Analysis"
      ],
      "metadata": {
        "id": "gt-__R9iH2z9"
      }
    },
    {
      "cell_type": "code",
      "source": [
        "df2['takeaway'].describe()"
      ],
      "metadata": {
        "colab": {
          "base_uri": "https://localhost:8080/"
        },
        "id": "MC-a9HDymR8K",
        "outputId": "bf3c8315-3357-4d71-d445-fcfe71f21fb0"
      },
      "execution_count": 50,
      "outputs": [
        {
          "output_type": "execute_result",
          "data": {
            "text/plain": [
              "count    11291.0\n",
              "mean        -1.0\n",
              "std          0.0\n",
              "min         -1.0\n",
              "25%         -1.0\n",
              "50%         -1.0\n",
              "75%         -1.0\n",
              "max         -1.0\n",
              "Name: takeaway, dtype: float64"
            ]
          },
          "metadata": {},
          "execution_count": 50
        }
      ]
    },
    {
      "cell_type": "code",
      "source": [
        "df2['delivery'].describe()"
      ],
      "metadata": {
        "colab": {
          "base_uri": "https://localhost:8080/"
        },
        "id": "oYJATcOymh6Q",
        "outputId": "0385453d-2191-4b63-b234-1407e4a64990"
      },
      "execution_count": 51,
      "outputs": [
        {
          "output_type": "execute_result",
          "data": {
            "text/plain": [
              "count    11291.000000\n",
              "mean        -0.284474\n",
              "std          0.955997\n",
              "min         -1.000000\n",
              "25%         -1.000000\n",
              "50%         -1.000000\n",
              "75%          1.000000\n",
              "max          1.000000\n",
              "Name: delivery, dtype: float64"
            ]
          },
          "metadata": {},
          "execution_count": 51
        }
      ]
    },
    {
      "cell_type": "code",
      "source": [
        "df2['aggregate_rating'].max()"
      ],
      "metadata": {
        "colab": {
          "base_uri": "https://localhost:8080/"
        },
        "id": "d750uX-GTIZX",
        "outputId": "5b67b79e-95a5-444c-9d35-441491eb61d4"
      },
      "execution_count": 52,
      "outputs": [
        {
          "output_type": "execute_result",
          "data": {
            "text/plain": [
              "4.9"
            ]
          },
          "metadata": {},
          "execution_count": 52
        }
      ]
    },
    {
      "cell_type": "code",
      "source": [
        "df2['aggregate_rating'].min()"
      ],
      "metadata": {
        "colab": {
          "base_uri": "https://localhost:8080/"
        },
        "id": "dJ7aEZGmTIWp",
        "outputId": "b0f3d20f-0bcf-47e4-8113-683efb9d3ec6"
      },
      "execution_count": 53,
      "outputs": [
        {
          "output_type": "execute_result",
          "data": {
            "text/plain": [
              "0.0"
            ]
          },
          "metadata": {},
          "execution_count": 53
        }
      ]
    },
    {
      "cell_type": "code",
      "source": [
        "df2['votes'].max()"
      ],
      "metadata": {
        "colab": {
          "base_uri": "https://localhost:8080/"
        },
        "id": "hhdyjNTATIRK",
        "outputId": "66e5b3c7-8da8-48dc-9490-860e16386f41"
      },
      "execution_count": 54,
      "outputs": [
        {
          "output_type": "execute_result",
          "data": {
            "text/plain": [
              "18967.0"
            ]
          },
          "metadata": {},
          "execution_count": 54
        }
      ]
    },
    {
      "cell_type": "code",
      "source": [
        "df2['votes'].value_counts()"
      ],
      "metadata": {
        "colab": {
          "base_uri": "https://localhost:8080/"
        },
        "id": "R7OnPapKdDkG",
        "outputId": "fc72052d-571f-487e-8d0d-b67313836be6"
      },
      "execution_count": 55,
      "outputs": [
        {
          "output_type": "execute_result",
          "data": {
            "text/plain": [
              "votes\n",
              "0.0       933\n",
              "1.0       450\n",
              "2.0       328\n",
              "3.0       305\n",
              "4.0       242\n",
              "         ... \n",
              "699.0       1\n",
              "1717.0      1\n",
              "1722.0      1\n",
              "2788.0      1\n",
              "855.0       1\n",
              "Name: count, Length: 1502, dtype: int64"
            ]
          },
          "metadata": {},
          "execution_count": 55
        }
      ]
    },
    {
      "cell_type": "code",
      "source": [
        "df2['votes'].min()\n",
        "\n",
        "# Filtering the rows with negative vote counts\n",
        "negative_votes = df2[df2['votes'] == 18967]\n",
        "\n",
        "# Display rows with negative vote counts\n",
        "print(negative_votes)\n",
        "\n",
        "#here  Vaishno The Cake Makers is voted badly in Agra City."
      ],
      "metadata": {
        "colab": {
          "base_uri": "https://localhost:8080/"
        },
        "id": "cGD3YiHp4L6l",
        "outputId": "baaf9f85-e268-44a3-9ccc-b5adca1adf0a"
      },
      "execution_count": 56,
      "outputs": [
        {
          "output_type": "stream",
          "name": "stdout",
          "text": [
            "       res_id                         name establishment  \\\n",
            "19636   58882  Byg Brewski Brewing Company  Microbrewery   \n",
            "19931   58882  Byg Brewski Brewing Company  Microbrewery   \n",
            "\n",
            "                                          address       city  city_id  \\\n",
            "19636  Behind MK Retail, Sarjapur Road, Bangalore  Bangalore        4   \n",
            "19931  Behind MK Retail, Sarjapur Road, Bangalore  Bangalore        4   \n",
            "\n",
            "            locality   latitude  longitude zipcode  ...  average_cost_for_two  \\\n",
            "19636  Sarjapur Road  12.912934  77.682906  560035  ...                1600.0   \n",
            "19931  Sarjapur Road  12.912934  77.682906  560035  ...                1600.0   \n",
            "\n",
            "      price_range                                         highlights  \\\n",
            "19636         3.0  Lunch', 'Delivery', 'Credit Card', 'Debit Card...   \n",
            "19931         3.0  Lunch', 'Delivery', 'Credit Card', 'Debit Card...   \n",
            "\n",
            "       aggregate_rating  rating_text    votes  photo_count opentable_support  \\\n",
            "19636               4.9    Excellent  18967.0       8559.0               0.0   \n",
            "19931               4.9    Excellent  18967.0       8559.0               0.0   \n",
            "\n",
            "       delivery  takeaway  \n",
            "19636       1.0      -1.0  \n",
            "19931      -1.0      -1.0  \n",
            "\n",
            "[2 rows x 23 columns]\n"
          ]
        }
      ]
    },
    {
      "cell_type": "code",
      "source": [
        "df2['votes'].min()\n",
        "\n",
        "# Filtering the rows with negative vote counts\n",
        "negative_votes = df2[df2['votes'] == 3.0]\n",
        "\n",
        "# Display rows with negative vote counts\n",
        "print(negative_votes.value_counts())\n",
        "\n",
        "#here  Vaishno The Cake Makers is voted badly in Agra City."
      ],
      "metadata": {
        "colab": {
          "base_uri": "https://localhost:8080/"
        },
        "id": "dKPfGYYnTIO_",
        "outputId": "5baeaaae-b6a6-4d7d-c927-db0fac5935f5"
      },
      "execution_count": 57,
      "outputs": [
        {
          "output_type": "stream",
          "name": "stdout",
          "text": [
            "res_id    name                                   establishment  address                                                              city        city_id  locality                   latitude   longitude  zipcode  country_id  locality_verbose                      cuisines                                           average_cost_for_two  price_range  highlights                                                                                                                                                 aggregate_rating  rating_text  votes  photo_count  opentable_support  delivery  takeaway\n",
            "111225    Shudh Vaishno Bhojnalay                Bhojanalya     Kalupur Railway Station, Kalupur, Ahmedabad                          Ahmedabad   11       Kalupur                    23.029251  72.600235  0        1.0         Kalupur, Ahmedabad                    North Indian                                       200.0                 1.0          Dinner', 'Takeaway Available', 'Breakfast', 'Lunch', 'Cash', 'Indoor Seating', 'Pure Veg                                                                   0.0               Not rated    3.0    5.0          0.0                -1.0      -1.0        1\n",
            "18948546  Manbhari Food Mart                     Bakery         Raghunandan Terminal Gargi Nagar Amravati, Navsaari, Amravati        Amravati    11335    Navsaari                   20.946168  77.765599  0        1.0         Navsaari, Amravati                    Bakery, Sandwich                                   200.0                 1.0          Credit Card', 'Cash', 'Debit Card', 'Digital Payments Accepted                                                                                             3.5               Good         3.0    0.0          0.0                 1.0      -1.0        1\n",
            "18974485  Hotel R K Emperial                     Casual Dining  rajkamal Chowk, ambadevi road, Amravati, Ambapeth, Amravati          Amravati    11335    Ambapeth                   20.923835  77.753904  0        1.0         Ambapeth, Amravati                    Indian, Modern Indian, North Indian, South Indian  300.0                 1.0                                                                                                                                                                     3.3               Average      3.0    1.0          0.0                -1.0      -1.0        1\n",
            "18973070  Pizza street cafe                      Fine Dining    camp road khatri complex near barbde hospital maltekedi amravati     Amravati    11335    Maltekedi                  20.934643  77.765139  0        1.0         Maltekedi, Amravati                   North Indian, Indian, Fast Food                    200.0                 1.0          Pure Veg                                                                                                                                                   3.8               Good         3.0    1.0          0.0                -1.0      -1.0        1\n",
            "18969912  A.R. Juice Center                      Beverage Shop  Taj Complex, Town Hall, Anand Nagar, Aurangabad                      Aurangabad  25       Anand Nagar                19.892249  75.323227  0        1.0         Anand Nagar, Aurangabad               Juices                                             100.0                 1.0          Cash', 'Takeaway Available', 'Indoor Seating                                                                                                               0.0               Not rated    3.0    0.0          0.0                 1.0      -1.0        1\n",
            "                                                                                                                                                                                                                                                                                                                                                                                                                                                                                                                                                                                                                  ..\n",
            "18627626  Lime Twist                             Kiosk          Garuda Mall, Ashok Nagar                                             Bangalore   4        Garuda Mall, Magrath Road  12.970299  77.609917  0        1.0         Garuda Mall, Magrath Road, Bangalore  Beverages, Desserts                                200.0                 1.0          No Seating Available', 'Dinner', 'Cash', 'Lunch', 'Mall Parking', 'Takeaway Available', 'Pure Veg                                                          0.0               Not rated    3.0    3.0          0.0                -1.0      -1.0        1\n",
            "18621956  Siri Jai Bhavani Mess                  Mess           385,Ground Floor, Near Manyata Tech Park, Nagawara, Bangalore        Bangalore   4        Nagawara                   13.041093  77.622269  0        1.0         Nagawara, Bangalore                   Chinese, North Indian, Seafood                     400.0                 1.0          Cash', 'Delivery', 'Lunch', 'Debit Card', 'Takeaway Available', 'Dinner', 'No Seating Available', 'Table booking recommended', 'Digital Payments Accepted  0.0               Not rated    3.0    2.0          0.0                -1.0      -1.0        1\n",
            "18621026  Madhushala House of Juices and Shakes  Beverage Shop  Sardar Patel Ring Road, Near Bopal Fly Over Bridge, Ambli            Ahmedabad   11       Bopal                      23.022856  72.478942  0        1.0         Bopal, Ahmedabad                      Beverages                                          350.0                 2.0          No Seating Available', 'Cash', 'No Alcohol Available', 'Takeaway Available                                                                                 0.0               Not rated    3.0    4.0          0.0                -1.0      -1.0        1\n",
            "18619535  Ambur Dum Biryani                      Mess           Opposite Ciy Medicals, Main Road, Bellandur, Bangalore               Bangalore   4        Bellandur                  12.929099  77.676448  0        1.0         Bellandur, Bangalore                  Biryani, South Indian                              300.0                 1.0          Dinner', 'Cash', 'Lunch', 'Takeaway Available', 'Indoor Seating', 'Digital Payments Accepted                                                               0.0               Not rated    3.0    0.0          0.0                -1.0      -1.0        1\n",
            "19152148  Uncle Anu's Kitchen                    Quick Bites    746/31, Ramleela Ka Bada Nagra, Nasirabad Road, Adarsh Nagar, Ajmer  Ajmer       11303    Adarsh Nagar               26.441715  74.646190  305001   1.0         Adarsh Nagar, Ajmer                   Fast Food, Rolls, Pizza, Italian                   150.0                 1.0          Dinner', 'Takeaway Available', 'Debit Card', 'Lunch', 'Cash', 'Credit Card', 'Indoor Seating                                                               0.0               Not rated    3.0    0.0          0.0                -1.0      -1.0        1\n",
            "Name: count, Length: 305, dtype: int64\n"
          ]
        }
      ]
    },
    {
      "cell_type": "code",
      "source": [
        "# Filtering the rows with negative vote counts\n",
        "highest_voted = df2[df2['votes'] == 18967].count()\n",
        "\n",
        "# Display rows with negative vote counts\n",
        "print(highest_voted)\n",
        "\n",
        "#there are 13 restuarants with highest vote of 18967"
      ],
      "metadata": {
        "colab": {
          "base_uri": "https://localhost:8080/"
        },
        "id": "JfwbOpsATIMa",
        "outputId": "d68c6215-9e17-40b5-b2e0-c42103e46f52"
      },
      "execution_count": 58,
      "outputs": [
        {
          "output_type": "stream",
          "name": "stdout",
          "text": [
            "res_id                  2\n",
            "name                    2\n",
            "establishment           2\n",
            "address                 2\n",
            "city                    2\n",
            "city_id                 2\n",
            "locality                2\n",
            "latitude                2\n",
            "longitude               2\n",
            "zipcode                 2\n",
            "country_id              2\n",
            "locality_verbose        2\n",
            "cuisines                2\n",
            "average_cost_for_two    2\n",
            "price_range             2\n",
            "highlights              2\n",
            "aggregate_rating        2\n",
            "rating_text             2\n",
            "votes                   2\n",
            "photo_count             2\n",
            "opentable_support       2\n",
            "delivery                2\n",
            "takeaway                2\n",
            "dtype: int64\n"
          ]
        }
      ]
    },
    {
      "cell_type": "code",
      "source": [
        "df2[df2['aggregate_rating'] == 3.9].count()"
      ],
      "metadata": {
        "colab": {
          "base_uri": "https://localhost:8080/"
        },
        "id": "e1pPTOhu3Rop",
        "outputId": "7dc66847-f9f3-40c4-dd19-99e038958a17"
      },
      "execution_count": 59,
      "outputs": [
        {
          "output_type": "execute_result",
          "data": {
            "text/plain": [
              "res_id                  754\n",
              "name                    754\n",
              "establishment           754\n",
              "address                 754\n",
              "city                    754\n",
              "city_id                 754\n",
              "locality                754\n",
              "latitude                754\n",
              "longitude               754\n",
              "zipcode                 754\n",
              "country_id              754\n",
              "locality_verbose        754\n",
              "cuisines                754\n",
              "average_cost_for_two    754\n",
              "price_range             754\n",
              "highlights              753\n",
              "aggregate_rating        754\n",
              "rating_text             754\n",
              "votes                   754\n",
              "photo_count             754\n",
              "opentable_support       754\n",
              "delivery                754\n",
              "takeaway                754\n",
              "dtype: int64"
            ]
          },
          "metadata": {},
          "execution_count": 59
        }
      ]
    },
    {
      "cell_type": "code",
      "source": [
        "df2[df2['aggregate_rating'] == 4.9].count()"
      ],
      "metadata": {
        "colab": {
          "base_uri": "https://localhost:8080/"
        },
        "id": "LdPwZkl8TIJU",
        "outputId": "ab7638db-1a1d-487f-dfcd-85d9776371cf"
      },
      "execution_count": 60,
      "outputs": [
        {
          "output_type": "execute_result",
          "data": {
            "text/plain": [
              "res_id                  46\n",
              "name                    46\n",
              "establishment           46\n",
              "address                 46\n",
              "city                    46\n",
              "city_id                 46\n",
              "locality                46\n",
              "latitude                46\n",
              "longitude               46\n",
              "zipcode                 46\n",
              "country_id              46\n",
              "locality_verbose        46\n",
              "cuisines                46\n",
              "average_cost_for_two    46\n",
              "price_range             46\n",
              "highlights              46\n",
              "aggregate_rating        46\n",
              "rating_text             46\n",
              "votes                   46\n",
              "photo_count             46\n",
              "opentable_support       46\n",
              "delivery                46\n",
              "takeaway                46\n",
              "dtype: int64"
            ]
          },
          "metadata": {},
          "execution_count": 60
        }
      ]
    },
    {
      "cell_type": "code",
      "source": [
        "df2[\"establishment\"] = df2[\"establishment\"].astype(str)\n",
        "df2['establishment'].unique()"
      ],
      "metadata": {
        "colab": {
          "base_uri": "https://localhost:8080/"
        },
        "id": "jzSCHOE_CzZR",
        "outputId": "5eee9389-9b46-4701-b78a-23df6e4690b7"
      },
      "execution_count": 61,
      "outputs": [
        {
          "output_type": "execute_result",
          "data": {
            "text/plain": [
              "array(['Quick Bites', 'Casual Dining', 'Bakery', 'Café', 'Dhaba',\n",
              "       'Bhojanalya', 'Bar', 'Sweet Shop', 'Fine Dining', 'Food Truck',\n",
              "       'Dessert Parlour', 'Lounge', 'Pub', 'Beverage Shop', 'Kiosk',\n",
              "       'Paan Shop', 'Confectionery', '', 'Shack', 'Club', 'Food Court',\n",
              "       'Mess', 'Butcher Shop', 'Microbrewery', 'Cocktail Bar'],\n",
              "      dtype=object)"
            ]
          },
          "metadata": {},
          "execution_count": 61
        }
      ]
    },
    {
      "cell_type": "code",
      "source": [
        "df2['name'].nunique()"
      ],
      "metadata": {
        "colab": {
          "base_uri": "https://localhost:8080/"
        },
        "id": "tIyyLE8DM3ps",
        "outputId": "26b505e8-4251-4044-f72a-b3707a7de5a4"
      },
      "execution_count": 62,
      "outputs": [
        {
          "output_type": "execute_result",
          "data": {
            "text/plain": [
              "8336"
            ]
          },
          "metadata": {},
          "execution_count": 62
        }
      ]
    },
    {
      "cell_type": "code",
      "source": [
        "sns.kdeplot(df2['aggregate_rating'], shade=True)\n",
        "plt.xlabel('Aggregate Rating')\n",
        "plt.ylabel('Density')\n",
        "plt.title('KDE Plot of Aggregate Rating')\n",
        "plt.show()"
      ],
      "metadata": {
        "id": "gibQpTNq0iOY",
        "colab": {
          "base_uri": "https://localhost:8080/",
          "height": 576
        },
        "outputId": "5e045ebe-05c8-4db7-d7b4-11a8d73ffc1d"
      },
      "execution_count": 63,
      "outputs": [
        {
          "output_type": "stream",
          "name": "stderr",
          "text": [
            "<ipython-input-63-cd61b9f9f78d>:1: FutureWarning: \n",
            "\n",
            "`shade` is now deprecated in favor of `fill`; setting `fill=True`.\n",
            "This will become an error in seaborn v0.14.0; please update your code.\n",
            "\n",
            "  sns.kdeplot(df2['aggregate_rating'], shade=True)\n"
          ]
        },
        {
          "output_type": "display_data",
          "data": {
            "text/plain": [
              "<Figure size 640x480 with 1 Axes>"
            ],
            "image/png": "[encoded data removed]"
          },
          "metadata": {}
        }
      ]
    },
    {
      "cell_type": "code",
      "source": [
        "number_of_all_restuarants = df2['name'].value_counts()\n",
        "\n",
        "number_of_all_restuarants"
      ],
      "metadata": {
        "colab": {
          "base_uri": "https://localhost:8080/"
        },
        "id": "8wa7kPVvOsCD",
        "outputId": "7ea4563a-2347-43aa-f076-eefa1f62a60c"
      },
      "execution_count": 64,
      "outputs": [
        {
          "output_type": "execute_result",
          "data": {
            "text/plain": [
              "name\n",
              "Domino's Pizza                  82\n",
              "Kanti Sweets                    61\n",
              "Subway                          58\n",
              "Cafe Coffee Day                 58\n",
              "Keventers                       53\n",
              "                                ..\n",
              "Suraj chat Bhandar               1\n",
              "Hip-Hop Momos                    1\n",
              "Nilesh Chat Bhandar              1\n",
              "Kaushalya Sweets And Namkeen     1\n",
              "Maggevala - Curly Cravings       1\n",
              "Name: count, Length: 8336, dtype: int64"
            ]
          },
          "metadata": {},
          "execution_count": 64
        }
      ]
    },
    {
      "cell_type": "markdown",
      "source": [
        "# Correlation Analysis betweeen variables"
      ],
      "metadata": {
        "id": "_Wfr1o1C_Bqu"
      }
    },
    {
      "cell_type": "code",
      "source": [
        "correlation = df2['votes'].corr(df2['aggregate_rating'])\n",
        "print(\"Correlation between Votes and Aggregate Rating :\", correlation)\n",
        "#Correlation between votes and aggregate rating is weak positive"
      ],
      "metadata": {
        "colab": {
          "base_uri": "https://localhost:8080/"
        },
        "id": "kf5iqCTzb_hw",
        "outputId": "dd7d26e6-36f3-4a85-f4bb-93d8b9df0032"
      },
      "execution_count": 65,
      "outputs": [
        {
          "output_type": "stream",
          "name": "stdout",
          "text": [
            "Correlation between Votes and Aggregate Rating : 0.2952405832164476\n"
          ]
        }
      ]
    },
    {
      "cell_type": "code",
      "source": [
        "correlation = df2['delivery'].corr(df2['votes'])\n",
        "print(\"Correlation between Votes and Delivery :\", correlation)"
      ],
      "metadata": {
        "colab": {
          "base_uri": "https://localhost:8080/"
        },
        "id": "zSY-ODSZ-0oO",
        "outputId": "aa306bd8-8f15-439c-fc9d-7fda2bd26323"
      },
      "execution_count": 66,
      "outputs": [
        {
          "output_type": "stream",
          "name": "stdout",
          "text": [
            "Correlation between Votes and Delivery : 0.03092874443555088\n"
          ]
        }
      ]
    },
    {
      "cell_type": "code",
      "source": [
        "correlation = df2['city_id'].corr(df2['aggregate_rating'])\n",
        "print(\"Correlation between City and Aggregate Rating :\", correlation)"
      ],
      "metadata": {
        "colab": {
          "base_uri": "https://localhost:8080/"
        },
        "id": "7oDaXXRhRsIX",
        "outputId": "9b22ca2b-c4cb-4c9a-e78a-cf3b22156e14"
      },
      "execution_count": 67,
      "outputs": [
        {
          "output_type": "stream",
          "name": "stdout",
          "text": [
            "Correlation between City and Aggregate Rating : -0.26969698379411494\n"
          ]
        }
      ]
    },
    {
      "cell_type": "code",
      "source": [
        "df2['average_cost_for_two'].value_counts()"
      ],
      "metadata": {
        "colab": {
          "base_uri": "https://localhost:8080/"
        },
        "id": "LFbDyKLHCzOn",
        "outputId": "cf33b9d9-5ae0-498f-e1f9-c67fb7b0a63b"
      },
      "execution_count": 68,
      "outputs": [
        {
          "output_type": "execute_result",
          "data": {
            "text/plain": [
              "average_cost_for_two\n",
              "300.0     1320\n",
              "200.0     1313\n",
              "500.0     1129\n",
              "400.0     1072\n",
              "100.0      913\n",
              "          ... \n",
              "1230.0       1\n",
              "260.0        1\n",
              "6500.0       1\n",
              "5500.0       1\n",
              "240.0        1\n",
              "Name: count, Length: 80, dtype: int64"
            ]
          },
          "metadata": {},
          "execution_count": 68
        }
      ]
    },
    {
      "cell_type": "code",
      "source": [
        "plt.hist(df2['average_cost_for_two'].value_counts(), bins=5, color='skyblue', edgecolor='black')\n",
        "plt.xlabel('r')\n",
        "plt.ylabel('Frequency')\n",
        "plt.title('Histogram of ')\n",
        "plt.show()"
      ],
      "metadata": {
        "colab": {
          "base_uri": "https://localhost:8080/",
          "height": 472
        },
        "id": "3d-oJw5oCzLG",
        "outputId": "e380a680-4efc-4557-da97-b08aaa7aae19"
      },
      "execution_count": 69,
      "outputs": [
        {
          "output_type": "display_data",
          "data": {
            "text/plain": [
              "<Figure size 640x480 with 1 Axes>"
            ],
            "image/png": "[encoded data removed]"
          },
          "metadata": {}
        }
      ]
    },
    {
      "cell_type": "code",
      "source": [
        "df2['name'].value_counts()"
      ],
      "metadata": {
        "colab": {
          "base_uri": "https://localhost:8080/"
        },
        "id": "MjW66gGjhrzN",
        "outputId": "451ae23f-2e91-4df7-a295-0b263d6a59ac"
      },
      "execution_count": 70,
      "outputs": [
        {
          "output_type": "execute_result",
          "data": {
            "text/plain": [
              "name\n",
              "Domino's Pizza                  82\n",
              "Kanti Sweets                    61\n",
              "Subway                          58\n",
              "Cafe Coffee Day                 58\n",
              "Keventers                       53\n",
              "                                ..\n",
              "Suraj chat Bhandar               1\n",
              "Hip-Hop Momos                    1\n",
              "Nilesh Chat Bhandar              1\n",
              "Kaushalya Sweets And Namkeen     1\n",
              "Maggevala - Curly Cravings       1\n",
              "Name: count, Length: 8336, dtype: int64"
            ]
          },
          "metadata": {},
          "execution_count": 70
        }
      ]
    },
    {
      "cell_type": "code",
      "source": [
        "df2['name'].nunique()"
      ],
      "metadata": {
        "colab": {
          "base_uri": "https://localhost:8080/"
        },
        "id": "B6YgHfBuhrti",
        "outputId": "edffdf6e-85cf-4349-ad16-23e2cb6c4f9f"
      },
      "execution_count": 71,
      "outputs": [
        {
          "output_type": "execute_result",
          "data": {
            "text/plain": [
              "8336"
            ]
          },
          "metadata": {},
          "execution_count": 71
        }
      ]
    },
    {
      "cell_type": "code",
      "source": [
        "correlation = df2['votes'].corr(df2['aggregate_rating'])\n",
        "print(\"Correlation between Votes and Aggregate Rating :\", correlation)\n",
        "#Correlation between votes and aggregate rating is weak positive"
      ],
      "metadata": {
        "id": "4CJzko3o8Ewa",
        "colab": {
          "base_uri": "https://localhost:8080/"
        },
        "outputId": "14a73b57-62ba-4276-f5bd-ab2d0c04f872"
      },
      "execution_count": 72,
      "outputs": [
        {
          "output_type": "stream",
          "name": "stdout",
          "text": [
            "Correlation between Votes and Aggregate Rating : 0.2952405832164476\n"
          ]
        }
      ]
    },
    {
      "cell_type": "code",
      "source": [
        "df2['votes'].median()"
      ],
      "metadata": {
        "id": "-qj33A0j-13r",
        "colab": {
          "base_uri": "https://localhost:8080/"
        },
        "outputId": "967b69b1-7665-4ff7-92ce-8d57975341fd"
      },
      "execution_count": 73,
      "outputs": [
        {
          "output_type": "execute_result",
          "data": {
            "text/plain": [
              "57.0"
            ]
          },
          "metadata": {},
          "execution_count": 73
        }
      ]
    },
    {
      "cell_type": "code",
      "source": [
        "df2['votes'].mean()"
      ],
      "metadata": {
        "colab": {
          "base_uri": "https://localhost:8080/"
        },
        "id": "4FmIXf66SpmN",
        "outputId": "9992267e-f105-4e4f-f10d-17e88b2f4567"
      },
      "execution_count": 74,
      "outputs": [
        {
          "output_type": "execute_result",
          "data": {
            "text/plain": [
              "319.2933309715703"
            ]
          },
          "metadata": {},
          "execution_count": 74
        }
      ]
    },
    {
      "cell_type": "code",
      "source": [
        "df['votes'].min()"
      ],
      "metadata": {
        "colab": {
          "base_uri": "https://localhost:8080/"
        },
        "id": "Hllf_uO96erX",
        "outputId": "fec45d6f-debe-4f9a-c85a-eba9257c3d95"
      },
      "execution_count": 75,
      "outputs": [
        {
          "output_type": "execute_result",
          "data": {
            "text/plain": [
              "-18.0"
            ]
          },
          "metadata": {},
          "execution_count": 75
        }
      ]
    },
    {
      "cell_type": "code",
      "source": [
        "df2[df2['aggregate_rating'] == 3.5].count()"
      ],
      "metadata": {
        "colab": {
          "base_uri": "https://localhost:8080/"
        },
        "id": "gxSXIu1UYz3O",
        "outputId": "1e08f4d8-b9b7-46b4-f1ed-d9b4e057b052"
      },
      "execution_count": 76,
      "outputs": [
        {
          "output_type": "execute_result",
          "data": {
            "text/plain": [
              "res_id                  501\n",
              "name                    501\n",
              "establishment           501\n",
              "address                 501\n",
              "city                    501\n",
              "city_id                 501\n",
              "locality                501\n",
              "latitude                501\n",
              "longitude               501\n",
              "zipcode                 501\n",
              "country_id              501\n",
              "locality_verbose        501\n",
              "cuisines                501\n",
              "average_cost_for_two    501\n",
              "price_range             501\n",
              "highlights              501\n",
              "aggregate_rating        501\n",
              "rating_text             501\n",
              "votes                   501\n",
              "photo_count             501\n",
              "opentable_support       501\n",
              "delivery                501\n",
              "takeaway                501\n",
              "dtype: int64"
            ]
          },
          "metadata": {},
          "execution_count": 76
        }
      ]
    },
    {
      "cell_type": "code",
      "source": [
        "df2[df2['aggregate_rating'] == 2.67].count()"
      ],
      "metadata": {
        "colab": {
          "base_uri": "https://localhost:8080/"
        },
        "id": "p1RiVk7wbfGl",
        "outputId": "97682569-7e14-4dfb-9bcf-ed7ca9350953"
      },
      "execution_count": 77,
      "outputs": [
        {
          "output_type": "execute_result",
          "data": {
            "text/plain": [
              "res_id                  0\n",
              "name                    0\n",
              "establishment           0\n",
              "address                 0\n",
              "city                    0\n",
              "city_id                 0\n",
              "locality                0\n",
              "latitude                0\n",
              "longitude               0\n",
              "zipcode                 0\n",
              "country_id              0\n",
              "locality_verbose        0\n",
              "cuisines                0\n",
              "average_cost_for_two    0\n",
              "price_range             0\n",
              "highlights              0\n",
              "aggregate_rating        0\n",
              "rating_text             0\n",
              "votes                   0\n",
              "photo_count             0\n",
              "opentable_support       0\n",
              "delivery                0\n",
              "takeaway                0\n",
              "dtype: int64"
            ]
          },
          "metadata": {},
          "execution_count": 77
        }
      ]
    },
    {
      "cell_type": "code",
      "source": [
        "df2['aggregate_rating'].value_counts()"
      ],
      "metadata": {
        "colab": {
          "base_uri": "https://localhost:8080/"
        },
        "id": "yYhTCFJIbqEG",
        "outputId": "c54adf17-4f64-4878-c412-3d21933fd4e1"
      },
      "execution_count": 78,
      "outputs": [
        {
          "output_type": "execute_result",
          "data": {
            "text/plain": [
              "aggregate_rating\n",
              "0.0    1821\n",
              "4.0     775\n",
              "3.9     754\n",
              "3.8     700\n",
              "4.1     694\n",
              "3.7     648\n",
              "4.2     576\n",
              "3.6     574\n",
              "3.5     501\n",
              "3.4     473\n",
              "4.3     464\n",
              "3.3     438\n",
              "3.2     364\n",
              "4.4     350\n",
              "2.9     319\n",
              "3.1     299\n",
              "3.0     268\n",
              "4.5     234\n",
              "2.8     214\n",
              "2.7     189\n",
              "4.6     144\n",
              "2.6     131\n",
              "2.5      92\n",
              "4.7      74\n",
              "2.4      49\n",
              "4.9      46\n",
              "4.8      45\n",
              "2.3      35\n",
              "2.1       9\n",
              "2.2       8\n",
              "2.0       2\n",
              "1.8       1\n",
              "Name: count, dtype: int64"
            ]
          },
          "metadata": {},
          "execution_count": 78
        }
      ]
    },
    {
      "cell_type": "code",
      "source": [
        "grouped = df.groupby('cuisines')\n",
        "for group, data in grouped:\n",
        "    if group == 'North Indian':\n",
        "        print(data['aggregate_rating'])"
      ],
      "metadata": {
        "colab": {
          "base_uri": "https://localhost:8080/"
        },
        "id": "aFwWI-uebuT5",
        "outputId": "3d33fcf0-7599-44cc-d3cf-21ed691461de"
      },
      "execution_count": 79,
      "outputs": [
        {
          "output_type": "stream",
          "name": "stdout",
          "text": [
            "13       4.1\n",
            "23       4.2\n",
            "24       4.1\n",
            "31       4.2\n",
            "35       4.0\n",
            "        ... \n",
            "33786    4.5\n",
            "33843    4.7\n",
            "33870    4.9\n",
            "33875    4.5\n",
            "34127    3.8\n",
            "Name: aggregate_rating, Length: 2976, dtype: float64\n"
          ]
        }
      ]
    },
    {
      "cell_type": "code",
      "source": [
        "df2['cuisines'].mode()[0]"
      ],
      "metadata": {
        "colab": {
          "base_uri": "https://localhost:8080/",
          "height": 35
        },
        "id": "KEuEn04eobzt",
        "outputId": "767f6acf-a971-4cd6-e1dc-770e67bb0292"
      },
      "execution_count": 80,
      "outputs": [
        {
          "output_type": "execute_result",
          "data": {
            "text/plain": [
              "'North Indian'"
            ],
            "application/vnd.google.colaboratory.intrinsic+json": {
              "type": "string"
            }
          },
          "metadata": {},
          "execution_count": 80
        }
      ]
    },
    {
      "cell_type": "code",
      "source": [
        "for index, row in df2.iterrows():\n",
        "    if row['name'] == 'Bikanervala' :\n",
        "        print(row['votes'])"
      ],
      "metadata": {
        "colab": {
          "base_uri": "https://localhost:8080/"
        },
        "id": "4xcxa1xAog20",
        "outputId": "15060664-0ff1-497a-d0f2-89dff1e996a6"
      },
      "execution_count": 81,
      "outputs": [
        {
          "output_type": "stream",
          "name": "stdout",
          "text": [
            "814.0\n",
            "523.0\n",
            "814.0\n",
            "647.0\n",
            "85.0\n",
            "63.0\n",
            "407.0\n",
            "187.0\n"
          ]
        }
      ]
    },
    {
      "cell_type": "code",
      "source": [
        "# Filter rows where 'category' starts with 'A'\n",
        "\n",
        "filtered_df = df2[df2['name'].str.startswith('D')]\n",
        "for a in filtered_df:\n",
        "   print(df2['city'] == 'Banglore')\n",
        "   break\n",
        "\n"
      ],
      "metadata": {
        "id": "3nAZ7-cxuAyP",
        "colab": {
          "base_uri": "https://localhost:8080/"
        },
        "outputId": "6f2b7125-a010-4c87-e80d-90036703fdd1"
      },
      "execution_count": 82,
      "outputs": [
        {
          "output_type": "stream",
          "name": "stdout",
          "text": [
            "0        False\n",
            "1        False\n",
            "2        False\n",
            "3        False\n",
            "4        False\n",
            "         ...  \n",
            "34168    False\n",
            "34169    False\n",
            "34170    False\n",
            "34171    False\n",
            "34172    False\n",
            "Name: city, Length: 11291, dtype: bool\n"
          ]
        }
      ]
    },
    {
      "cell_type": "code",
      "source": [
        "filtered_df = df2[df2['name'] == 'KFC']"
      ],
      "metadata": {
        "id": "xIMkB9dlQ9Gl"
      },
      "execution_count": 83,
      "outputs": []
    },
    {
      "cell_type": "code",
      "source": [
        "filtered_df.nunique()\n"
      ],
      "metadata": {
        "colab": {
          "base_uri": "https://localhost:8080/"
        },
        "id": "5NdFUkk-RCA_",
        "outputId": "77894f97-ab94-4851-e9eb-f42c60a93ebf"
      },
      "execution_count": 84,
      "outputs": [
        {
          "output_type": "execute_result",
          "data": {
            "text/plain": [
              "res_id                  46\n",
              "name                     1\n",
              "establishment            2\n",
              "address                 46\n",
              "city                    14\n",
              "city_id                 11\n",
              "locality                46\n",
              "latitude                46\n",
              "longitude               46\n",
              "zipcode                  1\n",
              "country_id               1\n",
              "locality_verbose        46\n",
              "cuisines                 2\n",
              "average_cost_for_two     2\n",
              "price_range              2\n",
              "highlights              45\n",
              "aggregate_rating        12\n",
              "rating_text              4\n",
              "votes                   45\n",
              "photo_count             42\n",
              "opentable_support        1\n",
              "delivery                 2\n",
              "takeaway                 1\n",
              "dtype: int64"
            ]
          },
          "metadata": {},
          "execution_count": 84
        }
      ]
    },
    {
      "cell_type": "code",
      "source": [
        "df2[['name', 'city', 'aggregate_rating']].value_counts()"
      ],
      "metadata": {
        "colab": {
          "base_uri": "https://localhost:8080/"
        },
        "id": "UT7u9qfuSuGZ",
        "outputId": "f7569cf2-4345-496f-fea6-f7b8fb0ff833"
      },
      "execution_count": 85,
      "outputs": [
        {
          "output_type": "execute_result",
          "data": {
            "text/plain": [
              "name                    city        aggregate_rating\n",
              "Sanchi Parlour          Bhopal      0.0                 35\n",
              "Indira Canteen          Bangalore   0.0                 17\n",
              "Kanti Sweets            Bangalore   4.0                 13\n",
              "                                    3.8                 11\n",
              "Polar Bear              Bangalore   4.2                  8\n",
              "                                                        ..\n",
              "Gyani de Chole Bhature  Bhopal      2.6                  1\n",
              "Gyani's Snacks Corner   Agra        2.9                  1\n",
              "Gymkhana Pub & Bar      Chandigarh  3.5                  1\n",
              "Gypsy Turtle            Bangalore   4.2                  1\n",
              "varadi wada             Amravati    2.8                  1\n",
              "Name: count, Length: 9948, dtype: int64"
            ]
          },
          "metadata": {},
          "execution_count": 85
        }
      ]
    },
    {
      "cell_type": "code",
      "source": [
        "a = df2[['city','cuisines',  'rating_text', 'average_cost_for_two' ]]"
      ],
      "metadata": {
        "id": "XeY-ijZdXOkK"
      },
      "execution_count": 86,
      "outputs": []
    },
    {
      "cell_type": "markdown",
      "source": [],
      "metadata": {
        "id": "yvO3rxEEcI0N"
      }
    },
    {
      "cell_type": "code",
      "source": [
        "a.value_counts()"
      ],
      "metadata": {
        "colab": {
          "base_uri": "https://localhost:8080/"
        },
        "id": "8DZX8Yaec1jS",
        "outputId": "3417f34f-b438-45aa-a768-4a16e1758270"
      },
      "execution_count": 87,
      "outputs": [
        {
          "output_type": "execute_result",
          "data": {
            "text/plain": [
              "city       cuisines                                                            rating_text  average_cost_for_two\n",
              "Alappuzha  Bakery                                                              Not rated    100.0                   39\n",
              "Bhopal     Desserts, Mithai                                                    Not rated    200.0                   32\n",
              "Bangalore  Mithai, Street Food                                                 Good         500.0                   31\n",
              "           Desserts, Ice Cream, Bakery, Fast Food                              Very Good    350.0                   31\n",
              "           Beverages, Desserts, Ice Cream                                      Good         400.0                   30\n",
              "                                                                                                                    ..\n",
              "Amritsar   North Indian, Fast Food                                             Average      150.0                    1\n",
              "           North Indian, European, Continental                                 Good         2200.0                   1\n",
              "           North Indian, Desserts, Beverages                                   Average      400.0                    1\n",
              "           North Indian, Continental, Salad, Biryani, Chinese, Wraps, Mughlai  Good         900.0                    1\n",
              "Zirakpur   Street Food, Fast Food, Desserts, Chinese, Bakery                   Good         200.0                    1\n",
              "Name: count, Length: 7949, dtype: int64"
            ]
          },
          "metadata": {},
          "execution_count": 87
        }
      ]
    },
    {
      "cell_type": "code",
      "source": [
        "df2.columns"
      ],
      "metadata": {
        "colab": {
          "base_uri": "https://localhost:8080/"
        },
        "id": "F8J_lgZkegc2",
        "outputId": "a1bb998f-8ae6-4068-ecba-2a9e6507f4b7"
      },
      "execution_count": 88,
      "outputs": [
        {
          "output_type": "execute_result",
          "data": {
            "text/plain": [
              "Index(['res_id', 'name', 'establishment', 'address', 'city', 'city_id',\n",
              "       'locality', 'latitude', 'longitude', 'zipcode', 'country_id',\n",
              "       'locality_verbose', 'cuisines', 'average_cost_for_two', 'price_range',\n",
              "       'highlights', 'aggregate_rating', 'rating_text', 'votes', 'photo_count',\n",
              "       'opentable_support', 'delivery', 'takeaway'],\n",
              "      dtype='object')"
            ]
          },
          "metadata": {},
          "execution_count": 88
        }
      ]
    },
    {
      "cell_type": "code",
      "source": [
        "df2[['name',  'city']].value_counts()"
      ],
      "metadata": {
        "colab": {
          "base_uri": "https://localhost:8080/"
        },
        "id": "YaqrDcuUesfT",
        "outputId": "99afea40-f2dc-4507-e86b-0c5bcccd967c"
      },
      "execution_count": 89,
      "outputs": [
        {
          "output_type": "execute_result",
          "data": {
            "text/plain": [
              "name                 city      \n",
              "Kanti Sweets         Bangalore     61\n",
              "Polar Bear           Bangalore     39\n",
              "Sanchi Parlour       Bhopal        36\n",
              "Keventers            Bangalore     30\n",
              "Frozen Bottle        Bangalore     27\n",
              "                                   ..\n",
              "Helly & Chilly Cafe  Ahmedabad      1\n",
              "Hello Resto-Pub      Bangalore      1\n",
              "Hees - James Hotel   Chandigarh     1\n",
              "Heere di hatti       Amritsar       1\n",
              "varadi wada          Amravati       1\n",
              "Name: count, Length: 8845, dtype: int64"
            ]
          },
          "metadata": {},
          "execution_count": 89
        }
      ]
    },
    {
      "cell_type": "code",
      "source": [
        "df2[['name','cuisines','average_cost_for_two', 'city']]"
      ],
      "metadata": {
        "colab": {
          "base_uri": "https://localhost:8080/",
          "height": 424
        },
        "id": "wZ2d4uhJgE67",
        "outputId": "282ba606-375e-4769-80b4-87d8c88cdb1a"
      },
      "execution_count": 90,
      "outputs": [
        {
          "output_type": "execute_result",
          "data": {
            "text/plain": [
              "                                 name  \\\n",
              "0                         Bikanervala   \n",
              "1      Mama Chicken Mama Franky House   \n",
              "2                       Bhagat Halwai   \n",
              "3                       Bhagat Halwai   \n",
              "4         The Salt Cafe Kitchen & Bar   \n",
              "...                               ...   \n",
              "34168                Starbucks Coffee   \n",
              "34169                      Chai Galli   \n",
              "34170    Sandy's Chocolate Laboratory   \n",
              "34171            The Chocolate Heaven   \n",
              "34172      Maggevala - Curly Cravings   \n",
              "\n",
              "                                                cuisines  \\\n",
              "0      North Indian, South Indian, Mithai, Street Foo...   \n",
              "1      North Indian, Mughlai, Rolls, Chinese, Fast Fo...   \n",
              "2                                      Fast Food, Mithai   \n",
              "3              Desserts, Bakery, Fast Food, South Indian   \n",
              "4                     North Indian, Continental, Italian   \n",
              "...                                                  ...   \n",
              "34168                                     Cafe, Sandwich   \n",
              "34169                                               Cafe   \n",
              "34170               Desserts, Continental, Italian, Cafe   \n",
              "34171                                 Desserts, Sandwich   \n",
              "34172                                       North Indian   \n",
              "\n",
              "       average_cost_for_two     city  \n",
              "0                     700.0     Agra  \n",
              "1                     600.0     Agra  \n",
              "2                     300.0     Agra  \n",
              "3                     300.0     Agra  \n",
              "4                    1000.0     Agra  \n",
              "...                     ...      ...  \n",
              "34168                 700.0  Chennai  \n",
              "34169                 400.0  Chennai  \n",
              "34170                1400.0  Chennai  \n",
              "34171                 600.0  Chennai  \n",
              "34172                 450.0  Chennai  \n",
              "\n",
              "[11291 rows x 4 columns]"
            ],
            "text/html": [
              "\n",
              "  <div id=\"df-4a3a29ed-f681-432f-add4-6eb48f25cdaf\" class=\"colab-df-container\">\n",
              "    <div>\n",
              "<style scoped>\n",
              "    .dataframe tbody tr th:only-of-type {\n",
              "        vertical-align: middle;\n",
              "    }\n",
              "\n",
              "    .dataframe tbody tr th {\n",
              "        vertical-align: top;\n",
              "    }\n",
              "\n",
              "    .dataframe thead th {\n",
              "        text-align: right;\n",
              "    }\n",
              "</style>\n",
              "<table border=\"1\" class=\"dataframe\">\n",
              "  <thead>\n",
              "    <tr style=\"text-align: right;\">\n",
              "      <th></th>\n",
              "      <th>name</th>\n",
              "      <th>cuisines</th>\n",
              "      <th>average_cost_for_two</th>\n",
              "      <th>city</th>\n",
              "    </tr>\n",
              "  </thead>\n",
              "  <tbody>\n",
              "    <tr>\n",
              "      <th>0</th>\n",
              "      <td>Bikanervala</td>\n",
              "      <td>North Indian, South Indian, Mithai, Street Foo...</td>\n",
              "      <td>700.0</td>\n",
              "      <td>Agra</td>\n",
              "    </tr>\n",
              "    <tr>\n",
              "      <th>1</th>\n",
              "      <td>Mama Chicken Mama Franky House</td>\n",
              "      <td>North Indian, Mughlai, Rolls, Chinese, Fast Fo...</td>\n",
              "      <td>600.0</td>\n",
              "      <td>Agra</td>\n",
              "    </tr>\n",
              "    <tr>\n",
              "      <th>2</th>\n",
              "      <td>Bhagat Halwai</td>\n",
              "      <td>Fast Food, Mithai</td>\n",
              "      <td>300.0</td>\n",
              "      <td>Agra</td>\n",
              "    </tr>\n",
              "    <tr>\n",
              "      <th>3</th>\n",
              "      <td>Bhagat Halwai</td>\n",
              "      <td>Desserts, Bakery, Fast Food, South Indian</td>\n",
              "      <td>300.0</td>\n",
              "      <td>Agra</td>\n",
              "    </tr>\n",
              "    <tr>\n",
              "      <th>4</th>\n",
              "      <td>The Salt Cafe Kitchen &amp; Bar</td>\n",
              "      <td>North Indian, Continental, Italian</td>\n",
              "      <td>1000.0</td>\n",
              "      <td>Agra</td>\n",
              "    </tr>\n",
              "    <tr>\n",
              "      <th>...</th>\n",
              "      <td>...</td>\n",
              "      <td>...</td>\n",
              "      <td>...</td>\n",
              "      <td>...</td>\n",
              "    </tr>\n",
              "    <tr>\n",
              "      <th>34168</th>\n",
              "      <td>Starbucks Coffee</td>\n",
              "      <td>Cafe, Sandwich</td>\n",
              "      <td>700.0</td>\n",
              "      <td>Chennai</td>\n",
              "    </tr>\n",
              "    <tr>\n",
              "      <th>34169</th>\n",
              "      <td>Chai Galli</td>\n",
              "      <td>Cafe</td>\n",
              "      <td>400.0</td>\n",
              "      <td>Chennai</td>\n",
              "    </tr>\n",
              "    <tr>\n",
              "      <th>34170</th>\n",
              "      <td>Sandy's Chocolate Laboratory</td>\n",
              "      <td>Desserts, Continental, Italian, Cafe</td>\n",
              "      <td>1400.0</td>\n",
              "      <td>Chennai</td>\n",
              "    </tr>\n",
              "    <tr>\n",
              "      <th>34171</th>\n",
              "      <td>The Chocolate Heaven</td>\n",
              "      <td>Desserts, Sandwich</td>\n",
              "      <td>600.0</td>\n",
              "      <td>Chennai</td>\n",
              "    </tr>\n",
              "    <tr>\n",
              "      <th>34172</th>\n",
              "      <td>Maggevala - Curly Cravings</td>\n",
              "      <td>North Indian</td>\n",
              "      <td>450.0</td>\n",
              "      <td>Chennai</td>\n",
              "    </tr>\n",
              "  </tbody>\n",
              "</table>\n",
              "<p>11291 rows × 4 columns</p>\n",
              "</div>\n",
              "    <div class=\"colab-df-buttons\">\n",
              "\n",
              "  <div class=\"colab-df-container\">\n",
              "    <button class=\"colab-df-convert\" onclick=\"convertToInteractive('df-4a3a29ed-f681-432f-add4-6eb48f25cdaf')\"\n",
              "            title=\"Convert this dataframe to an interactive table.\"\n",
              "            style=\"display:none;\">\n",
              "\n",
              "  <svg xmlns=\"http://www.w3.org/2000/svg\" height=\"24px\" viewBox=\"0 -960 960 960\">\n",
              "    <path d=\"M120-120v-720h720v720H120Zm60-500h600v-160H180v160Zm220 220h160v-160H400v160Zm0 220h160v-160H400v160ZM180-400h160v-160H180v160Zm440 0h160v-160H620v160ZM180-180h160v-160H180v160Zm440 0h160v-160H620v160Z\"/>\n",
              "  </svg>\n",
              "    </button>\n",
              "\n",
              "  <style>\n",
              "    .colab-df-container {\n",
              "      display:flex;\n",
              "      gap: 12px;\n",
              "    }\n",
              "\n",
              "    .colab-df-convert {\n",
              "      background-color: #E8F0FE;\n",
              "      border: none;\n",
              "      border-radius: 50%;\n",
              "      cursor: pointer;\n",
              "      display: none;\n",
              "      fill: #1967D2;\n",
              "      height: 32px;\n",
              "      padding: 0 0 0 0;\n",
              "      width: 32px;\n",
              "    }\n",
              "\n",
              "    .colab-df-convert:hover {\n",
              "      background-color: #E2EBFA;\n",
              "      box-shadow: 0px 1px 2px rgba(60, 64, 67, 0.3), 0px 1px 3px 1px rgba(60, 64, 67, 0.15);\n",
              "      fill: #174EA6;\n",
              "    }\n",
              "\n",
              "    .colab-df-buttons div {\n",
              "      margin-bottom: 4px;\n",
              "    }\n",
              "\n",
              "    [theme=dark] .colab-df-convert {\n",
              "      background-color: #3B4455;\n",
              "      fill: #D2E3FC;\n",
              "    }\n",
              "\n",
              "    [theme=dark] .colab-df-convert:hover {\n",
              "      background-color: #434B5C;\n",
              "      box-shadow: 0px 1px 3px 1px rgba(0, 0, 0, 0.15);\n",
              "      filter: drop-shadow(0px 1px 2px rgba(0, 0, 0, 0.3));\n",
              "      fill: #FFFFFF;\n",
              "    }\n",
              "  </style>\n",
              "\n",
              "    <script>\n",
              "      const buttonEl =\n",
              "        document.querySelector('#df-4a3a29ed-f681-432f-add4-6eb48f25cdaf button.colab-df-convert');\n",
              "      buttonEl.style.display =\n",
              "        google.colab.kernel.accessAllowed ? 'block' : 'none';\n",
              "\n",
              "      async function convertToInteractive(key) {\n",
              "        const element = document.querySelector('#df-4a3a29ed-f681-432f-add4-6eb48f25cdaf');\n",
              "        const dataTable =\n",
              "          await google.colab.kernel.invokeFunction('convertToInteractive',\n",
              "                                                    [key], {});\n",
              "        if (!dataTable) return;\n",
              "\n",
              "        const docLinkHtml = 'Like what you see? Visit the ' +\n",
              "          '<a target=\"_blank\" href=https://colab.research.google.com/notebooks/data_table.ipynb>data table notebook</a>'\n",
              "          + ' to learn more about interactive tables.';\n",
              "        element.innerHTML = '';\n",
              "        dataTable['output_type'] = 'display_data';\n",
              "        await google.colab.output.renderOutput(dataTable, element);\n",
              "        const docLink = document.createElement('div');\n",
              "        docLink.innerHTML = docLinkHtml;\n",
              "        element.appendChild(docLink);\n",
              "      }\n",
              "    </script>\n",
              "  </div>\n",
              "\n",
              "\n",
              "<div id=\"df-7d8878e1-5d9b-4db1-a305-fee561e6c2c5\">\n",
              "  <button class=\"colab-df-quickchart\" onclick=\"quickchart('df-7d8878e1-5d9b-4db1-a305-fee561e6c2c5')\"\n",
              "            title=\"Suggest charts\"\n",
              "            style=\"display:none;\">\n",
              "\n",
              "<svg xmlns=\"http://www.w3.org/2000/svg\" height=\"24px\"viewBox=\"0 0 24 24\"\n",
              "     width=\"24px\">\n",
              "    <g>\n",
              "        <path d=\"M19 3H5c-1.1 0-2 .9-2 2v14c0 1.1.9 2 2 2h14c1.1 0 2-.9 2-2V5c0-1.1-.9-2-2-2zM9 17H7v-7h2v7zm4 0h-2V7h2v10zm4 0h-2v-4h2v4z\"/>\n",
              "    </g>\n",
              "</svg>\n",
              "  </button>\n",
              "\n",
              "<style>\n",
              "  .colab-df-quickchart {\n",
              "      --bg-color: #E8F0FE;\n",
              "      --fill-color: #1967D2;\n",
              "      --hover-bg-color: #E2EBFA;\n",
              "      --hover-fill-color: #174EA6;\n",
              "      --disabled-fill-color: #AAA;\n",
              "      --disabled-bg-color: #DDD;\n",
              "  }\n",
              "\n",
              "  [theme=dark] .colab-df-quickchart {\n",
              "      --bg-color: #3B4455;\n",
              "      --fill-color: #D2E3FC;\n",
              "      --hover-bg-color: #434B5C;\n",
              "      --hover-fill-color: #FFFFFF;\n",
              "      --disabled-bg-color: #3B4455;\n",
              "      --disabled-fill-color: #666;\n",
              "  }\n",
              "\n",
              "  .colab-df-quickchart {\n",
              "    background-color: var(--bg-color);\n",
              "    border: none;\n",
              "    border-radius: 50%;\n",
              "    cursor: pointer;\n",
              "    display: none;\n",
              "    fill: var(--fill-color);\n",
              "    height: 32px;\n",
              "    padding: 0;\n",
              "    width: 32px;\n",
              "  }\n",
              "\n",
              "  .colab-df-quickchart:hover {\n",
              "    background-color: var(--hover-bg-color);\n",
              "    box-shadow: 0 1px 2px rgba(60, 64, 67, 0.3), 0 1px 3px 1px rgba(60, 64, 67, 0.15);\n",
              "    fill: var(--button-hover-fill-color);\n",
              "  }\n",
              "\n",
              "  .colab-df-quickchart-complete:disabled,\n",
              "  .colab-df-quickchart-complete:disabled:hover {\n",
              "    background-color: var(--disabled-bg-color);\n",
              "    fill: var(--disabled-fill-color);\n",
              "    box-shadow: none;\n",
              "  }\n",
              "\n",
              "  .colab-df-spinner {\n",
              "    border: 2px solid var(--fill-color);\n",
              "    border-color: transparent;\n",
              "    border-bottom-color: var(--fill-color);\n",
              "    animation:\n",
              "      spin 1s steps(1) infinite;\n",
              "  }\n",
              "\n",
              "  @keyframes spin {\n",
              "    0% {\n",
              "      border-color: transparent;\n",
              "      border-bottom-color: var(--fill-color);\n",
              "      border-left-color: var(--fill-color);\n",
              "    }\n",
              "    20% {\n",
              "      border-color: transparent;\n",
              "      border-left-color: var(--fill-color);\n",
              "      border-top-color: var(--fill-color);\n",
              "    }\n",
              "    30% {\n",
              "      border-color: transparent;\n",
              "      border-left-color: var(--fill-color);\n",
              "      border-top-color: var(--fill-color);\n",
              "      border-right-color: var(--fill-color);\n",
              "    }\n",
              "    40% {\n",
              "      border-color: transparent;\n",
              "      border-right-color: var(--fill-color);\n",
              "      border-top-color: var(--fill-color);\n",
              "    }\n",
              "    60% {\n",
              "      border-color: transparent;\n",
              "      border-right-color: var(--fill-color);\n",
              "    }\n",
              "    80% {\n",
              "      border-color: transparent;\n",
              "      border-right-color: var(--fill-color);\n",
              "      border-bottom-color: var(--fill-color);\n",
              "    }\n",
              "    90% {\n",
              "      border-color: transparent;\n",
              "      border-bottom-color: var(--fill-color);\n",
              "    }\n",
              "  }\n",
              "</style>\n",
              "\n",
              "  <script>\n",
              "    async function quickchart(key) {\n",
              "      const quickchartButtonEl =\n",
              "        document.querySelector('#' + key + ' button');\n",
              "      quickchartButtonEl.disabled = true;  // To prevent multiple clicks.\n",
              "      quickchartButtonEl.classList.add('colab-df-spinner');\n",
              "      try {\n",
              "        const charts = await google.colab.kernel.invokeFunction(\n",
              "            'suggestCharts', [key], {});\n",
              "      } catch (error) {\n",
              "        console.error('Error during call to suggestCharts:', error);\n",
              "      }\n",
              "      quickchartButtonEl.classList.remove('colab-df-spinner');\n",
              "      quickchartButtonEl.classList.add('colab-df-quickchart-complete');\n",
              "    }\n",
              "    (() => {\n",
              "      let quickchartButtonEl =\n",
              "        document.querySelector('#df-7d8878e1-5d9b-4db1-a305-fee561e6c2c5 button');\n",
              "      quickchartButtonEl.style.display =\n",
              "        google.colab.kernel.accessAllowed ? 'block' : 'none';\n",
              "    })();\n",
              "  </script>\n",
              "</div>\n",
              "    </div>\n",
              "  </div>\n"
            ],
            "application/vnd.google.colaboratory.intrinsic+json": {
              "type": "dataframe",
              "summary": "{\n  \"name\": \"df2[['name','cuisines','average_cost_for_two', 'city']]\",\n  \"rows\": 11291,\n  \"fields\": [\n    {\n      \"column\": \"name\",\n      \"properties\": {\n        \"dtype\": \"string\",\n        \"num_unique_values\": 8336,\n        \"samples\": [\n          \"Amritsari Kulcha Point\",\n          \"Town Bakery\",\n          \"Club Hollywood BLVD\"\n        ],\n        \"semantic_type\": \"\",\n        \"description\": \"\"\n      }\n    },\n    {\n      \"column\": \"cuisines\",\n      \"properties\": {\n        \"dtype\": \"category\",\n        \"num_unique_values\": 2469,\n        \"samples\": [\n          \"Mughlai, North Indian, Seafood, Chinese\",\n          \"Chinese, Vietnamese, Desserts\",\n          \"North Indian, Biryani, Rolls, Beverages\"\n        ],\n        \"semantic_type\": \"\",\n        \"description\": \"\"\n      }\n    },\n    {\n      \"column\": \"average_cost_for_two\",\n      \"properties\": {\n        \"dtype\": \"number\",\n        \"std\": 533.5905769940678,\n        \"min\": 0.0,\n        \"max\": 14000.0,\n        \"num_unique_values\": 80,\n        \"samples\": [\n          1800.0,\n          700.0,\n          5500.0\n        ],\n        \"semantic_type\": \"\",\n        \"description\": \"\"\n      }\n    },\n    {\n      \"column\": \"city\",\n      \"properties\": {\n        \"dtype\": \"category\",\n        \"num_unique_values\": 18,\n        \"samples\": [\n          \"Agra\",\n          \"Ahmedabad\",\n          \"Aurangabad\"\n        ],\n        \"semantic_type\": \"\",\n        \"description\": \"\"\n      }\n    }\n  ]\n}"
            }
          },
          "metadata": {},
          "execution_count": 90
        }
      ]
    },
    {
      "cell_type": "code",
      "source": [
        "df2['city'].max()"
      ],
      "metadata": {
        "colab": {
          "base_uri": "https://localhost:8080/",
          "height": 35
        },
        "id": "qL4eqylRn4jV",
        "outputId": "0f7aed21-102b-4b16-f342-f5e11e6bf07d"
      },
      "execution_count": 91,
      "outputs": [
        {
          "output_type": "execute_result",
          "data": {
            "text/plain": [
              "'Zirakpur'"
            ],
            "application/vnd.google.colaboratory.intrinsic+json": {
              "type": "string"
            }
          },
          "metadata": {},
          "execution_count": 91
        }
      ]
    },
    {
      "cell_type": "code",
      "source": [
        "df2[['name',  'city', 'cuisines', 'rating_text']].value_counts()"
      ],
      "metadata": {
        "colab": {
          "base_uri": "https://localhost:8080/"
        },
        "id": "9nNcUNtuteeQ",
        "outputId": "17555860-4d07-4d1f-dc1b-ffddca5ae858"
      },
      "execution_count": 92,
      "outputs": [
        {
          "output_type": "execute_result",
          "data": {
            "text/plain": [
              "name                    city       cuisines                                rating_text\n",
              "Kanti Sweets            Bangalore  Mithai, Street Food                     Good           31\n",
              "Polar Bear              Bangalore  Desserts, Ice Cream, Bakery, Fast Food  Very Good      31\n",
              "Sanchi Parlour          Bhopal     Desserts, Mithai                        Not rated      30\n",
              "Kanti Sweets            Bangalore  Mithai, Street Food                     Very Good      26\n",
              "Keventers               Bangalore  Beverages, Desserts, Ice Cream          Good           23\n",
              "                                                                                          ..\n",
              "Happy Belly Bakes       Bangalore  Cafe, Bakery                            Very Good       1\n",
              "                                   Bakery, Cafe                            Very Good       1\n",
              "Happy And Healthy Food  Allahabad  Healthy Food                            Average         1\n",
              "Happinezz               Ahmedabad  Ice Cream, Desserts                     Good            1\n",
              "varadi wada             Amravati   Maharashtrian, Indian, Fast Food        Average         1\n",
              "Name: count, Length: 9639, dtype: int64"
            ]
          },
          "metadata": {},
          "execution_count": 92
        }
      ]
    },
    {
      "cell_type": "code",
      "source": [
        "df2[['name', 'city']].value_counts()"
      ],
      "metadata": {
        "colab": {
          "base_uri": "https://localhost:8080/"
        },
        "id": "gvKXV-xosy8p",
        "outputId": "7e7c55ae-6d55-48e0-d044-42d88204556a"
      },
      "execution_count": 93,
      "outputs": [
        {
          "output_type": "execute_result",
          "data": {
            "text/plain": [
              "name                 city      \n",
              "Kanti Sweets         Bangalore     61\n",
              "Polar Bear           Bangalore     39\n",
              "Sanchi Parlour       Bhopal        36\n",
              "Keventers            Bangalore     30\n",
              "Frozen Bottle        Bangalore     27\n",
              "                                   ..\n",
              "Helly & Chilly Cafe  Ahmedabad      1\n",
              "Hello Resto-Pub      Bangalore      1\n",
              "Hees - James Hotel   Chandigarh     1\n",
              "Heere di hatti       Amritsar       1\n",
              "varadi wada          Amravati       1\n",
              "Name: count, Length: 8845, dtype: int64"
            ]
          },
          "metadata": {},
          "execution_count": 93
        }
      ]
    },
    {
      "cell_type": "code",
      "source": [
        "df2.groupby('city')['name'].count()"
      ],
      "metadata": {
        "colab": {
          "base_uri": "https://localhost:8080/"
        },
        "id": "SEicK2S-uF1Z",
        "outputId": "08e68191-d2c1-442e-cf2f-fe7e7f697ad0"
      },
      "execution_count": 94,
      "outputs": [
        {
          "output_type": "execute_result",
          "data": {
            "text/plain": [
              "city\n",
              "Agra             892\n",
              "Ahmedabad       1329\n",
              "Ajmer            470\n",
              "Alappuzha        267\n",
              "Allahabad        567\n",
              "Amravati         440\n",
              "Amritsar         692\n",
              "Aurangabad       693\n",
              "Bangalore       2365\n",
              "Bhopal           971\n",
              "Bhubaneshwar     792\n",
              "Chandigarh       681\n",
              "Chennai          360\n",
              "Gandhinagar       96\n",
              "Mohali           333\n",
              "Nayagaon          15\n",
              "Panchkula        174\n",
              "Zirakpur         154\n",
              "Name: name, dtype: int64"
            ]
          },
          "metadata": {},
          "execution_count": 94
        }
      ]
    },
    {
      "cell_type": "code",
      "source": [],
      "metadata": {
        "id": "7KaMZ9-tNMtj"
      },
      "execution_count": 94,
      "outputs": []
    }
  ]
}